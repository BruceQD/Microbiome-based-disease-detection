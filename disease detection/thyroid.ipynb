{
 "cells": [
  {
   "cell_type": "code",
   "execution_count": 1,
   "metadata": {},
   "outputs": [],
   "source": [
    "import pandas as pd\n",
    "import numpy as np\n",
    "import lightgbm as lgb\n",
    "\n",
    "from sklearn.model_selection import StratifiedKFold\n",
    "from sklearn.metrics import accuracy_score, f1_score, auc, roc_curve\n",
    "from sklearn.ensemble import RandomForestClassifier\n",
    "\n",
    "import random\n",
    "\n",
    "\n",
    "import warnings \n",
    "warnings.filterwarnings(\"ignore\") "
   ]
  },
  {
   "cell_type": "code",
   "execution_count": 2,
   "metadata": {},
   "outputs": [],
   "source": [
    "def genData(df_tmp,df_health,runID_pos,disease,randomState=0):\n",
    "    df_pos = df_tmp[ ( df_tmp['SampleID'].isin(runID_pos) ) & ( df_tmp['disease'] == disease )].drop_duplicates()\n",
    "    df_pos['label'] = 1\n",
    "    \n",
    "    random.seed(randomState)\n",
    "    neg_idx = random.sample(range(len(df_health)), len(df_pos))\n",
    "    df_neg = df_health.loc[neg_idx]\n",
    "    df_neg['label'] = 0\n",
    "    \n",
    "    df_health_new = df_health.loc[~df_health.index.isin(neg_idx)]\n",
    "    df_health_new = df_health_new.reset_index(drop=True)\n",
    "    \n",
    "    data = pd.concat([df_pos,df_neg])\n",
    "    data = data.reset_index(drop=True)\n",
    "    return data,df_health_new"
   ]
  },
  {
   "cell_type": "code",
   "execution_count": 3,
   "metadata": {},
   "outputs": [],
   "source": [
    "def isDisease(x):\n",
    "    if disease_name in x and len(x)==1:\n",
    "        return 'Single'\n",
    "    elif disease_name in x and len(x)>1:\n",
    "        return 'Multiple'\n",
    "    else:\n",
    "        return 'Other'"
   ]
  },
  {
   "cell_type": "code",
   "execution_count": 4,
   "metadata": {},
   "outputs": [],
   "source": [
    "def Eval(true, prob):\n",
    "    fpr, tpr, thresholds = roc_curve(true, prob, pos_label=1)\n",
    "    auc_tmp = auc(fpr, tpr)\n",
    "\n",
    "    prob[prob<0.5] = 0\n",
    "    prob[prob>=0.5] = 1\n",
    "    return auc_tmp"
   ]
  },
  {
   "cell_type": "code",
   "execution_count": 5,
   "metadata": {},
   "outputs": [],
   "source": [
    "def genData_test(df_tmp,df_health,runID_pos,disease,randomState=0):\n",
    "    df_pos = df_tmp[ df_tmp['SampleID'].isin(runID_pos ) \n",
    "                    & ( df_tmp['disease'] == disease )].drop_duplicates()    \n",
    "    df_pos['label'] = 1    \n",
    "    df_pos = df_pos.reset_index(drop=True)\n",
    "    \n",
    "    random.seed(randomState)\n",
    "    pos_idx = random.sample(range(len(df_pos)), len(df_health))\n",
    "    \n",
    "    data_Multiple = pd.concat([df_pos.loc[pos_idx,df_health.columns],df_health])\n",
    "    data_Multiple = data_Multiple.reset_index(drop=True)   \n",
    "    \n",
    "    return data_Multiple"
   ]
  },
  {
   "cell_type": "code",
   "execution_count": 6,
   "metadata": {},
   "outputs": [],
   "source": [
    "def result_single(disease_name):\n",
    "    data_Single, df_health_new = genData(df_new,df_health,\n",
    "                                                 set(disease_sta.loc[disease_sta['is_'+disease_name]=='Single','SampleID']),\n",
    "                                                 disease_name)   \n",
    "\n",
    "\n",
    "    train = data_Single[column_names+['label']]\n",
    "    std_ = train[column_names].std()\n",
    "    feats = [x for x in train[column_names].columns if x not in list(std_[std_==0].index)]\n",
    "\n",
    "\n",
    "    auc_single_array = np.zeros(5)\n",
    "    auc_multiple_array = np.zeros(5)\n",
    "\n",
    "    auc_single_rf = np.zeros(5)\n",
    "    auc_multiple_rf = np.zeros(5)\n",
    "\n",
    "    count = 0\n",
    "\n",
    "\n",
    "    for train_index, test_index in kf.split(train,train['label']):\n",
    "\n",
    "\n",
    "        train_, test_ = train.loc[train_index], train.loc[test_index]\n",
    "        y_test = test_['label']\n",
    "\n",
    "\n",
    "        clf.fit(train_[feats],train_['label'])\n",
    "        y_pred = clf.predict_proba(test_[feats])[:,1]    \n",
    "        auc_single_array[count] = Eval(y_test, y_pred)\n",
    "\n",
    "        rf.fit(train_[feats],train_['label'])\n",
    "        y_pred = rf.predict_proba(test_[feats])[:,1] \n",
    "        auc_single_rf[count] = Eval(y_test, y_pred)\n",
    "\n",
    "\n",
    "        data_Multiple = genData_test(df_new,train_[train_['label']==0],\n",
    "                                     set(disease_sta.loc[disease_sta['is_'+disease_name]=='Multiple','SampleID']) ,disease_name)\n",
    "\n",
    "\n",
    "        clf.fit(data_Multiple[feats],data_Multiple['label'])\n",
    "        y_pred = clf.predict_proba(test_[feats])[:,1]\n",
    "        auc_multiple_array[count] = Eval(y_test, y_pred)\n",
    "\n",
    "        rf.fit(data_Multiple[feats],data_Multiple['label'])\n",
    "        y_pred = rf.predict_proba(test_[feats])[:,1]\n",
    "        auc_multiple_rf[count] = Eval(y_test, y_pred)\n",
    "\n",
    "        count = count + 1\n",
    "    \n",
    "    print('For lightgbm,the AUC of SD is %5.4f, the AUC of MD is %5.4f.'%(np.mean(auc_single_array),np.mean(auc_multiple_array)))\n",
    "    print('For randomforest,the AUC of SD is %5.4f, the AUC of MD is %5.4f.'%(np.mean(auc_single_rf),np.mean(auc_multiple_rf)))"
   ]
  },
  {
   "cell_type": "code",
   "execution_count": 7,
   "metadata": {},
   "outputs": [],
   "source": [
    "df_disease = pd.read_csv('patients_ID.csv')\n",
    "df_disease.columns = ['SampleID','disease']"
   ]
  },
  {
   "cell_type": "code",
   "execution_count": 8,
   "metadata": {},
   "outputs": [],
   "source": [
    "df = pd.read_csv('disease_health.OTU.Abd_newID')\n",
    "\n",
    "disease_SampleID = set(df['SampleID']) & set(df_disease['SampleID'])\n",
    "\n",
    "health_SampleID = set(df['SampleID']) - set(df_disease['SampleID'])\n",
    "df_health = pd.DataFrame({'SampleID':list(health_SampleID)})\n",
    "df_health['disease'] = 'health'\n",
    "\n",
    "df_all = pd.concat([df_disease.loc[df_disease['SampleID'].isin(disease_SampleID)],df_health])\n",
    "df_all = df_all.reset_index(drop=True)"
   ]
  },
  {
   "cell_type": "code",
   "execution_count": 9,
   "metadata": {},
   "outputs": [],
   "source": [
    "df_new = df_all.merge(df,how='left',on=['SampleID'])\n",
    "disease_sta = pd.DataFrame(df_new[['SampleID','disease']].groupby('SampleID',as_index=False).agg(set))"
   ]
  },
  {
   "cell_type": "code",
   "execution_count": 10,
   "metadata": {},
   "outputs": [],
   "source": [
    "disease_sta['isHealth'] = disease_sta['disease'].apply(lambda x: 1 if 'health' in x else 0)\n",
    "runID_health = set(disease_sta.loc[disease_sta['isHealth']==1,'SampleID'])\n",
    "\n",
    "df_health = df_new[df_new['SampleID'].isin(runID_health)]\n",
    "df_health = df_health.reset_index(drop=True)"
   ]
  },
  {
   "cell_type": "code",
   "execution_count": 11,
   "metadata": {},
   "outputs": [],
   "source": [
    "kf = StratifiedKFold(n_splits  = 5, shuffle=True, random_state=2020)\n",
    "\n",
    "clf = lgb.LGBMClassifier(learning_rate=0.02,max_depth=6,n_estimators=1000,random_state=2020,num_leaves =64,\n",
    "                         n_jobs=50,subsample=0.8,subsample_freq=5,colsample_bytree=0.7)\n",
    "rf = RandomForestClassifier(n_estimators=500,n_jobs=50,random_state=2020)"
   ]
  },
  {
   "cell_type": "code",
   "execution_count": 12,
   "metadata": {},
   "outputs": [],
   "source": [
    "column_names = [x for x in list(df_new.columns) if 'SampleID' != x and 'disease' != x]"
   ]
  },
  {
   "cell_type": "code",
   "execution_count": 13,
   "metadata": {},
   "outputs": [],
   "source": [
    "disease_name = 'thyroid'\n",
    "disease_sta['is_'+disease_name] = disease_sta['disease'].apply(lambda x: isDisease(x))"
   ]
  },
  {
   "cell_type": "code",
   "execution_count": 15,
   "metadata": {},
   "outputs": [
    {
     "name": "stdout",
     "output_type": "stream",
     "text": [
      "For lightgbm,the AUC of SD is 0.7281, the AUC of MD is 0.6997.\n",
      "For randomforest,the AUC of SD is 0.7138, the AUC of MD is 0.6826.\n"
     ]
    }
   ],
   "source": [
    "result_single('thyroid')"
   ]
  },
  {
   "cell_type": "code",
   "execution_count": 16,
   "metadata": {},
   "outputs": [],
   "source": [
    "data_Multiple, df_health_new = genData(df_new,df_health,\n",
    "                                             set(disease_sta.loc[disease_sta['is_'+disease_name]=='Multiple','SampleID']),\n",
    "                                             disease_name)   \n",
    "pos = data_Multiple[data_Multiple['label']==1]\n",
    "pos = pos.reset_index(drop=True)\n",
    "random.seed(11)\n",
    "pos_idx = random.sample(range(len(pos)), 698)\n",
    "\n",
    "neg = data_Multiple[data_Multiple['label']==0]\n",
    "neg = neg.reset_index(drop=True)\n",
    "neg_idx = random.sample(range(len(neg)), 698)\n",
    "    \n",
    "data_Multiple = pd.concat([pos.loc[pos_idx],neg.loc[neg_idx]])\n",
    "data_Multiple = data_Multiple.reset_index(drop=True)   "
   ]
  },
  {
   "cell_type": "code",
   "execution_count": 17,
   "metadata": {},
   "outputs": [
    {
     "name": "stdout",
     "output_type": "stream",
     "text": [
      "For lightgbm,the AUC of MD is 0.7938, the AUC of SD is 0.7642.\n",
      "For randomforest,the AUC of MD is 0.7690, the AUC of SD is 0.7553\n"
     ]
    }
   ],
   "source": [
    "train = data_Multiple[column_names+['label']]\n",
    "std_ = train[column_names].std()\n",
    "feats = [x for x in train[column_names].columns if x not in list(std_[std_==0].index)]\n",
    "\n",
    "auc_single_array = np.zeros(5)\n",
    "auc_multiple_array = np.zeros(5)\n",
    "\n",
    "auc_single_rf = np.zeros(5)\n",
    "auc_multiple_rf = np.zeros(5)\n",
    "\n",
    "count = 0\n",
    "\n",
    "\n",
    "for train_index, test_index in kf.split(train,train['label']):\n",
    "    \n",
    "    \n",
    "    train_, test_ = train.loc[train_index], train.loc[test_index]\n",
    "    y_test = test_['label']\n",
    "    \n",
    "    clf.fit(train_[feats],train_['label'])\n",
    "    y_pred = clf.predict_proba(test_[feats])[:,1]    \n",
    "    auc_multiple_array[count] = Eval(y_test, y_pred)\n",
    "    \n",
    "    rf.fit(train_[feats],train_['label'])\n",
    "    y_pred = rf.predict_proba(test_[feats])[:,1]\n",
    "    auc_multiple_rf[count] = Eval(y_test, y_pred)\n",
    "    \n",
    "    \n",
    "    data_Single = genData_test(df_new,train_[train_['label']==0],\n",
    "                                 set(disease_sta.loc[disease_sta['is_'+disease_name]=='Single','SampleID']) ,disease_name)\n",
    "    \n",
    "    \n",
    "    clf.fit(data_Single[feats],data_Single['label'])\n",
    "    y_pred = clf.predict_proba(test_[feats])[:,1]\n",
    "    auc_single_array[count] = Eval(y_test, y_pred)\n",
    "    \n",
    "    rf.fit(data_Single[feats],data_Single['label'])\n",
    "    y_pred = rf.predict_proba(test_[feats])[:,1]\n",
    "    auc_single_rf[count] = Eval(y_test, y_pred)\n",
    "    \n",
    "    count = count + 1\n",
    "    \n",
    "print('For lightgbm,the AUC of MD is %5.4f, the AUC of SD is %5.4f.'%(np.mean(auc_multiple_array),np.mean(auc_single_array)))\n",
    "print('For randomforest,the AUC of MD is %5.4f, the AUC of SD is %5.4f'%(np.mean(auc_multiple_rf),np.mean(auc_single_rf)))"
   ]
  },
  {
   "cell_type": "code",
   "execution_count": null,
   "metadata": {},
   "outputs": [],
   "source": []
  },
  {
   "cell_type": "code",
   "execution_count": null,
   "metadata": {},
   "outputs": [],
   "source": []
  },
  {
   "cell_type": "code",
   "execution_count": null,
   "metadata": {},
   "outputs": [],
   "source": []
  },
  {
   "cell_type": "code",
   "execution_count": null,
   "metadata": {},
   "outputs": [],
   "source": []
  }
 ],
 "metadata": {
  "kernelspec": {
   "display_name": "Python 3",
   "language": "python",
   "name": "python3"
  },
  "language_info": {
   "codemirror_mode": {
    "name": "ipython",
    "version": 3
   },
   "file_extension": ".py",
   "mimetype": "text/x-python",
   "name": "python",
   "nbconvert_exporter": "python",
   "pygments_lexer": "ipython3",
   "version": "3.7.4"
  }
 },
 "nbformat": 4,
 "nbformat_minor": 4
}
