{
 "cells": [
  {
   "cell_type": "code",
   "execution_count": 1,
   "metadata": {},
   "outputs": [],
   "source": [
    "import pandas as pd\n",
    "import numpy as np\n",
    "import lightgbm as lgb\n",
    "\n",
    "from sklearn.model_selection import StratifiedKFold\n",
    "from sklearn.metrics import accuracy_score, f1_score, auc, roc_curve\n",
    "from sklearn.linear_model import LogisticRegression\n",
    "\n",
    "import matplotlib.pyplot as plt\n",
    "\n",
    "import random\n",
    "\n",
    "import warnings \n",
    "warnings.filterwarnings(\"ignore\") "
   ]
  },
  {
   "cell_type": "code",
   "execution_count": null,
   "metadata": {},
   "outputs": [],
   "source": []
  },
  {
   "cell_type": "code",
   "execution_count": null,
   "metadata": {},
   "outputs": [],
   "source": []
  },
  {
   "cell_type": "code",
   "execution_count": 2,
   "metadata": {},
   "outputs": [],
   "source": [
    "def genData(df_tmp,df_health,runID_pos,disease,randomState=0):\n",
    "    df_pos = df_tmp[ ( df_tmp['SampleID'].isin(runID_pos) ) & ( df_tmp['disease'] == disease )].drop_duplicates()\n",
    "    df_pos['label'] = 1\n",
    "    \n",
    "    random.seed(randomState)\n",
    "    neg_idx = random.sample(range(len(df_health)), len(df_pos))\n",
    "    df_neg = df_health.loc[neg_idx]\n",
    "    df_neg['label'] = 0\n",
    "    \n",
    "    df_health_new = df_health.loc[~df_health.index.isin(neg_idx)]\n",
    "    df_health_new = df_health_new.reset_index(drop=True)\n",
    "    \n",
    "    data = pd.concat([df_pos,df_neg])\n",
    "    data = data.reset_index(drop=True)\n",
    "    return data,df_health_new\n",
    "\n"
   ]
  },
  {
   "cell_type": "code",
   "execution_count": null,
   "metadata": {},
   "outputs": [],
   "source": []
  },
  {
   "cell_type": "code",
   "execution_count": 3,
   "metadata": {},
   "outputs": [],
   "source": [
    "def Eval(true, prob):\n",
    "    fpr, tpr, thresholds = roc_curve(true, prob, pos_label=1)\n",
    "    auc_tmp = auc(fpr, tpr)\n",
    "\n",
    "    prob[prob<0.5] = 0\n",
    "    prob[prob>=0.5] = 1\n",
    "    f1_tmp = f1_score(true,prob)\n",
    "    return auc_tmp, f1_tmp"
   ]
  },
  {
   "cell_type": "code",
   "execution_count": null,
   "metadata": {},
   "outputs": [],
   "source": []
  },
  {
   "cell_type": "code",
   "execution_count": 4,
   "metadata": {},
   "outputs": [],
   "source": [
    "def genData_test(df_tmp,df_health,runID_pos,disease,randomState=0):\n",
    "    df_pos = df_tmp[ df_tmp['SampleID'].isin(runID_pos ) \n",
    "                    & ( df_tmp['disease'] == disease )].drop_duplicates()    \n",
    "    df_pos['label'] = 1    \n",
    "    df_pos = df_pos.reset_index(drop=True)\n",
    "    \n",
    "    if len(df_pos) > len(df_health):\n",
    "        random.seed(randomState)\n",
    "        pos_idx = random.sample(range(len(df_pos)), len(df_health))\n",
    "    \n",
    "        data_Multiple = pd.concat([df_pos.loc[pos_idx,df_health.columns],df_health])\n",
    "    \n",
    "    else:\n",
    "        data_Multiple = pd.concat([df_pos[df_health.columns],df_health])\n",
    "    \n",
    "    data_Multiple = data_Multiple.reset_index(drop=True)   \n",
    "    \n",
    "    return data_Multiple"
   ]
  },
  {
   "cell_type": "code",
   "execution_count": null,
   "metadata": {},
   "outputs": [],
   "source": []
  },
  {
   "cell_type": "code",
   "execution_count": 5,
   "metadata": {},
   "outputs": [],
   "source": [
    "df_disease = pd.read_csv('patients_ID.csv',low_memory=False)\n",
    "del df_disease['Unnamed: 0']\n",
    "df_disease.columns = ['SampleID','disease']"
   ]
  },
  {
   "cell_type": "code",
   "execution_count": null,
   "metadata": {},
   "outputs": [],
   "source": []
  },
  {
   "cell_type": "code",
   "execution_count": 6,
   "metadata": {},
   "outputs": [],
   "source": [
    "df = pd.read_csv('disease_health.genus_new.Abd',sep='\\t',low_memory=False)\n",
    "\n",
    "disease_SampleID = set(df['SampleID']) & set(df_disease['SampleID'])"
   ]
  },
  {
   "cell_type": "code",
   "execution_count": null,
   "metadata": {},
   "outputs": [],
   "source": []
  },
  {
   "cell_type": "code",
   "execution_count": null,
   "metadata": {},
   "outputs": [],
   "source": []
  },
  {
   "cell_type": "code",
   "execution_count": null,
   "metadata": {},
   "outputs": [],
   "source": []
  },
  {
   "cell_type": "code",
   "execution_count": null,
   "metadata": {},
   "outputs": [],
   "source": []
  },
  {
   "cell_type": "code",
   "execution_count": 7,
   "metadata": {},
   "outputs": [],
   "source": [
    "df_health = pd.read_csv('health.csv')"
   ]
  },
  {
   "cell_type": "code",
   "execution_count": 8,
   "metadata": {},
   "outputs": [],
   "source": [
    "df_all = pd.concat([df_disease.loc[df_disease['SampleID'].isin(disease_SampleID)],df_health])\n",
    "df_all = df_all.reset_index(drop=True)"
   ]
  },
  {
   "cell_type": "code",
   "execution_count": null,
   "metadata": {},
   "outputs": [],
   "source": []
  },
  {
   "cell_type": "code",
   "execution_count": 9,
   "metadata": {},
   "outputs": [],
   "source": [
    "df_new = df_all.merge(df,how='left',on=['SampleID'])"
   ]
  },
  {
   "cell_type": "code",
   "execution_count": 10,
   "metadata": {},
   "outputs": [],
   "source": [
    "df_new_s = df_new[df_new['Unclassified']<0.05]\n",
    "df_new_s = df_new_s.reset_index(drop=True)"
   ]
  },
  {
   "cell_type": "code",
   "execution_count": 11,
   "metadata": {},
   "outputs": [],
   "source": [
    "df_health_s = df_new_s[df_new_s['disease']=='health']\n",
    "df_health_s = df_health_s.reset_index(drop=True)"
   ]
  },
  {
   "cell_type": "code",
   "execution_count": 12,
   "metadata": {},
   "outputs": [
    {
     "data": {
      "text/plain": [
       "(3274, 2010)"
      ]
     },
     "execution_count": 12,
     "metadata": {},
     "output_type": "execute_result"
    }
   ],
   "source": [
    "df_health_s.shape"
   ]
  },
  {
   "cell_type": "code",
   "execution_count": null,
   "metadata": {},
   "outputs": [],
   "source": []
  },
  {
   "cell_type": "code",
   "execution_count": 13,
   "metadata": {},
   "outputs": [],
   "source": [
    "column_names = [x for x in df_new_s.columns if x !='SampleID' and x !='disease' and x !='Unclassified']"
   ]
  },
  {
   "cell_type": "code",
   "execution_count": 14,
   "metadata": {},
   "outputs": [],
   "source": [
    "disease_sta = pd.DataFrame(df_new_s[['SampleID','disease']].groupby('SampleID',as_index=False).agg(set))"
   ]
  },
  {
   "cell_type": "code",
   "execution_count": null,
   "metadata": {},
   "outputs": [],
   "source": []
  },
  {
   "cell_type": "code",
   "execution_count": 15,
   "metadata": {},
   "outputs": [],
   "source": [
    "disease_name = 'ibs'\n",
    "another_name = 'autoimmune'\n",
    "\n",
    "def isDisease(x):\n",
    "    if disease_name in x and len(x)==1:\n",
    "        return 'IBS'\n",
    "    elif another_name in x and len(x)==1:\n",
    "        return 'Autoimmune'\n",
    "    elif disease_name in x and another_name in x:\n",
    "        return 'Multiple'\n",
    "    else:\n",
    "        return 'Other'\n",
    "    \n",
    "disease_sta['which_disease'] = disease_sta['disease'].apply(lambda x: isDisease(x))"
   ]
  },
  {
   "cell_type": "code",
   "execution_count": 16,
   "metadata": {},
   "outputs": [
    {
     "data": {
      "text/plain": [
       "385"
      ]
     },
     "execution_count": 16,
     "metadata": {},
     "output_type": "execute_result"
    }
   ],
   "source": [
    "sum(disease_sta['which_disease']=='Multiple')"
   ]
  },
  {
   "cell_type": "code",
   "execution_count": null,
   "metadata": {},
   "outputs": [],
   "source": []
  },
  {
   "cell_type": "code",
   "execution_count": 17,
   "metadata": {},
   "outputs": [],
   "source": [
    "data_Single_Autoimmune, df_health_new = genData(df_new_s,df_health_s,\n",
    "                                             set(disease_sta.loc[disease_sta['which_disease']=='Autoimmune','SampleID']),\n",
    "                                             another_name)   "
   ]
  },
  {
   "cell_type": "code",
   "execution_count": 18,
   "metadata": {},
   "outputs": [
    {
     "data": {
      "text/plain": [
       "(936, 2011)"
      ]
     },
     "execution_count": 18,
     "metadata": {},
     "output_type": "execute_result"
    }
   ],
   "source": [
    "data_Single_Autoimmune.shape"
   ]
  },
  {
   "cell_type": "code",
   "execution_count": 19,
   "metadata": {},
   "outputs": [
    {
     "data": {
      "text/plain": [
       "(468, 2011)"
      ]
     },
     "execution_count": 19,
     "metadata": {},
     "output_type": "execute_result"
    }
   ],
   "source": [
    "data_Single_Autoimmune[data_Single_Autoimmune['label']==1].shape"
   ]
  },
  {
   "cell_type": "code",
   "execution_count": 20,
   "metadata": {},
   "outputs": [
    {
     "data": {
      "text/plain": [
       "(468, 2011)"
      ]
     },
     "execution_count": 20,
     "metadata": {},
     "output_type": "execute_result"
    }
   ],
   "source": [
    "data_Single_Autoimmune[data_Single_Autoimmune['label']==0].shape"
   ]
  },
  {
   "cell_type": "code",
   "execution_count": null,
   "metadata": {},
   "outputs": [],
   "source": []
  },
  {
   "cell_type": "code",
   "execution_count": null,
   "metadata": {},
   "outputs": [],
   "source": []
  },
  {
   "cell_type": "code",
   "execution_count": null,
   "metadata": {},
   "outputs": [],
   "source": []
  },
  {
   "cell_type": "code",
   "execution_count": null,
   "metadata": {},
   "outputs": [],
   "source": []
  },
  {
   "cell_type": "code",
   "execution_count": 21,
   "metadata": {},
   "outputs": [],
   "source": [
    "data_Multiple = genData_test(df_new_s,data_Single_Autoimmune[data_Single_Autoimmune['label']==0],\n",
    "                                 set(disease_sta.loc[disease_sta['which_disease']=='Multiple','SampleID']) ,disease_name)"
   ]
  },
  {
   "cell_type": "code",
   "execution_count": 22,
   "metadata": {},
   "outputs": [
    {
     "data": {
      "text/plain": [
       "(853, 2011)"
      ]
     },
     "execution_count": 22,
     "metadata": {},
     "output_type": "execute_result"
    }
   ],
   "source": [
    "data_Multiple.shape"
   ]
  },
  {
   "cell_type": "code",
   "execution_count": 23,
   "metadata": {},
   "outputs": [
    {
     "data": {
      "text/plain": [
       "(385, 2011)"
      ]
     },
     "execution_count": 23,
     "metadata": {},
     "output_type": "execute_result"
    }
   ],
   "source": [
    "data_Multiple[data_Multiple['label']==1].shape"
   ]
  },
  {
   "cell_type": "code",
   "execution_count": 24,
   "metadata": {},
   "outputs": [
    {
     "data": {
      "text/plain": [
       "(468, 2011)"
      ]
     },
     "execution_count": 24,
     "metadata": {},
     "output_type": "execute_result"
    }
   ],
   "source": [
    "data_Multiple[data_Multiple['label']==0].shape"
   ]
  },
  {
   "cell_type": "code",
   "execution_count": null,
   "metadata": {},
   "outputs": [],
   "source": []
  },
  {
   "cell_type": "code",
   "execution_count": 25,
   "metadata": {},
   "outputs": [],
   "source": [
    "from mvtpy import mvtest"
   ]
  },
  {
   "cell_type": "code",
   "execution_count": 26,
   "metadata": {},
   "outputs": [],
   "source": [
    "mv = mvtest.mvtest()"
   ]
  },
  {
   "cell_type": "code",
   "execution_count": null,
   "metadata": {},
   "outputs": [],
   "source": []
  },
  {
   "cell_type": "code",
   "execution_count": 27,
   "metadata": {},
   "outputs": [],
   "source": [
    "res = []\n",
    "for each in column_names:\n",
    "    res.append( ( each, mv.test(data_Single_Autoimmune[each], data_Single_Autoimmune['label'])['Tn'] ))"
   ]
  },
  {
   "cell_type": "code",
   "execution_count": 28,
   "metadata": {},
   "outputs": [],
   "source": [
    "res_Autoimmune = sorted(res,key=lambda x:x[1],reverse=True)"
   ]
  },
  {
   "cell_type": "code",
   "execution_count": 29,
   "metadata": {},
   "outputs": [],
   "source": [
    "res_Autoimmune_s = [x[0] for x in res_Autoimmune if x[1]>0.712]"
   ]
  },
  {
   "cell_type": "code",
   "execution_count": 30,
   "metadata": {},
   "outputs": [
    {
     "data": {
      "text/plain": [
       "['Cor_Eggerthella',\n",
       " 'Ent_Tatumella',\n",
       " 'Ent_Cronobacter',\n",
       " 'Ent_Edwardsiella',\n",
       " 'Tis_WAL_1855D',\n",
       " 'Pre_Prevotella',\n",
       " 'Mog_Eubacterium',\n",
       " 'Bif_Bifidobacterium',\n",
       " 'Ery_Erysipelatoclostridium',\n",
       " 'Ent_Escherichia_Shigella',\n",
       " 'Lac_Tyzzerella',\n",
       " 'Ent_Enterobacteriaceae_Group',\n",
       " 'Ent_Raoultella',\n",
       " 'Pas_Haemophilus',\n",
       " 'Ent_Enterobacter',\n",
       " 'Phy_Phyllobacterium',\n",
       " 'Pep_Romboutsia',\n",
       " 'Rum_Papillibacter',\n",
       " 'Ent_Cedecea',\n",
       " 'Vei_Dialister',\n",
       " 'Cor_Slackia',\n",
       " 'Ent_Enterococcus',\n",
       " 'Ent_Salmonella',\n",
       " 'Ent_Leminorella',\n",
       " 'Ent_Arsenophonus',\n",
       " 'Cam_Campylobacter',\n",
       " 'Chr_Christensenellaceae_Group',\n",
       " 'Sta_Staphylococcus',\n",
       " 'Por_Porphyromonas',\n",
       " 'Cor_Collinsella',\n",
       " 'Ent_Serratia',\n",
       " 'Lac_Eisenbergiella',\n",
       " 'Clo_Eubacterium',\n",
       " 'Mor_Enhydrobacter']"
      ]
     },
     "execution_count": 30,
     "metadata": {},
     "output_type": "execute_result"
    }
   ],
   "source": [
    "res_Autoimmune_s"
   ]
  },
  {
   "cell_type": "code",
   "execution_count": null,
   "metadata": {},
   "outputs": [],
   "source": []
  },
  {
   "cell_type": "code",
   "execution_count": null,
   "metadata": {},
   "outputs": [],
   "source": []
  },
  {
   "cell_type": "code",
   "execution_count": null,
   "metadata": {},
   "outputs": [],
   "source": []
  },
  {
   "cell_type": "code",
   "execution_count": 30,
   "metadata": {},
   "outputs": [],
   "source": [
    "res = []\n",
    "for each in column_names:\n",
    "    res.append( ( each, mv.test(data_Multiple[each], data_Multiple['label'])['Tn'] ))"
   ]
  },
  {
   "cell_type": "code",
   "execution_count": 31,
   "metadata": {},
   "outputs": [],
   "source": [
    "res_Multi = sorted(res,key=lambda x:x[1],reverse=True)"
   ]
  },
  {
   "cell_type": "code",
   "execution_count": 32,
   "metadata": {},
   "outputs": [],
   "source": [
    "res_Multi_s = [x[0] for x in res_Multi if x[1]>0.712]"
   ]
  },
  {
   "cell_type": "code",
   "execution_count": null,
   "metadata": {},
   "outputs": [],
   "source": []
  },
  {
   "cell_type": "code",
   "execution_count": null,
   "metadata": {},
   "outputs": [],
   "source": []
  },
  {
   "cell_type": "code",
   "execution_count": null,
   "metadata": {},
   "outputs": [],
   "source": []
  },
  {
   "cell_type": "code",
   "execution_count": 33,
   "metadata": {},
   "outputs": [],
   "source": [
    "df_Autoimmune = pd.DataFrame({'genus':[x[0] for x in res_Autoimmune], 'score_s':[x[1] for x in res_Autoimmune]})"
   ]
  },
  {
   "cell_type": "code",
   "execution_count": 34,
   "metadata": {},
   "outputs": [
    {
     "data": {
      "text/html": [
       "<div>\n",
       "<style scoped>\n",
       "    .dataframe tbody tr th:only-of-type {\n",
       "        vertical-align: middle;\n",
       "    }\n",
       "\n",
       "    .dataframe tbody tr th {\n",
       "        vertical-align: top;\n",
       "    }\n",
       "\n",
       "    .dataframe thead th {\n",
       "        text-align: right;\n",
       "    }\n",
       "</style>\n",
       "<table border=\"1\" class=\"dataframe\">\n",
       "  <thead>\n",
       "    <tr style=\"text-align: right;\">\n",
       "      <th></th>\n",
       "      <th>genus</th>\n",
       "      <th>score_s</th>\n",
       "    </tr>\n",
       "  </thead>\n",
       "  <tbody>\n",
       "    <tr>\n",
       "      <td>0</td>\n",
       "      <td>Cor_Eggerthella</td>\n",
       "      <td>3.62</td>\n",
       "    </tr>\n",
       "    <tr>\n",
       "      <td>1</td>\n",
       "      <td>Ent_Tatumella</td>\n",
       "      <td>3.22</td>\n",
       "    </tr>\n",
       "    <tr>\n",
       "      <td>2</td>\n",
       "      <td>Ent_Cronobacter</td>\n",
       "      <td>2.73</td>\n",
       "    </tr>\n",
       "    <tr>\n",
       "      <td>3</td>\n",
       "      <td>Ent_Edwardsiella</td>\n",
       "      <td>2.55</td>\n",
       "    </tr>\n",
       "    <tr>\n",
       "      <td>4</td>\n",
       "      <td>Tis_WAL_1855D</td>\n",
       "      <td>2.40</td>\n",
       "    </tr>\n",
       "    <tr>\n",
       "      <td>...</td>\n",
       "      <td>...</td>\n",
       "      <td>...</td>\n",
       "    </tr>\n",
       "    <tr>\n",
       "      <td>2002</td>\n",
       "      <td>Met_LD28</td>\n",
       "      <td>0.00</td>\n",
       "    </tr>\n",
       "    <tr>\n",
       "      <td>2003</td>\n",
       "      <td>Rho_Planktomarina</td>\n",
       "      <td>0.00</td>\n",
       "    </tr>\n",
       "    <tr>\n",
       "      <td>2004</td>\n",
       "      <td>Rho_Methyloligella</td>\n",
       "      <td>0.00</td>\n",
       "    </tr>\n",
       "    <tr>\n",
       "      <td>2005</td>\n",
       "      <td>Phy_Phycisphaeraceae_Group</td>\n",
       "      <td>0.00</td>\n",
       "    </tr>\n",
       "    <tr>\n",
       "      <td>2006</td>\n",
       "      <td>Bro_Candidatus_Scalindua</td>\n",
       "      <td>0.00</td>\n",
       "    </tr>\n",
       "  </tbody>\n",
       "</table>\n",
       "<p>2007 rows × 2 columns</p>\n",
       "</div>"
      ],
      "text/plain": [
       "                           genus  score_s\n",
       "0                Cor_Eggerthella     3.62\n",
       "1                  Ent_Tatumella     3.22\n",
       "2                Ent_Cronobacter     2.73\n",
       "3               Ent_Edwardsiella     2.55\n",
       "4                  Tis_WAL_1855D     2.40\n",
       "...                          ...      ...\n",
       "2002                    Met_LD28     0.00\n",
       "2003           Rho_Planktomarina     0.00\n",
       "2004          Rho_Methyloligella     0.00\n",
       "2005  Phy_Phycisphaeraceae_Group     0.00\n",
       "2006    Bro_Candidatus_Scalindua     0.00\n",
       "\n",
       "[2007 rows x 2 columns]"
      ]
     },
     "execution_count": 34,
     "metadata": {},
     "output_type": "execute_result"
    }
   ],
   "source": [
    "df_Autoimmune"
   ]
  },
  {
   "cell_type": "code",
   "execution_count": 35,
   "metadata": {},
   "outputs": [],
   "source": [
    "df_Multi = pd.DataFrame({'genus':[x[0] for x in res_Multi], 'score_m':[x[1] for x in res_Multi]})"
   ]
  },
  {
   "cell_type": "code",
   "execution_count": 36,
   "metadata": {},
   "outputs": [],
   "source": [
    "heatMap = df_Multi.merge(df_Autoimmune)"
   ]
  },
  {
   "cell_type": "code",
   "execution_count": 37,
   "metadata": {},
   "outputs": [],
   "source": [
    "heatMap_s = heatMap[heatMap['genus'].isin(set(res_Multi_s[:10]) | set(res_Autoimmune_s[:10]))]\n",
    "heatMap_s = heatMap_s.reset_index(drop=True)"
   ]
  },
  {
   "cell_type": "code",
   "execution_count": 38,
   "metadata": {},
   "outputs": [
    {
     "data": {
      "text/html": [
       "<div>\n",
       "<style scoped>\n",
       "    .dataframe tbody tr th:only-of-type {\n",
       "        vertical-align: middle;\n",
       "    }\n",
       "\n",
       "    .dataframe tbody tr th {\n",
       "        vertical-align: top;\n",
       "    }\n",
       "\n",
       "    .dataframe thead th {\n",
       "        text-align: right;\n",
       "    }\n",
       "</style>\n",
       "<table border=\"1\" class=\"dataframe\">\n",
       "  <thead>\n",
       "    <tr style=\"text-align: right;\">\n",
       "      <th></th>\n",
       "      <th>genus</th>\n",
       "      <th>score_m</th>\n",
       "      <th>score_s</th>\n",
       "    </tr>\n",
       "  </thead>\n",
       "  <tbody>\n",
       "    <tr>\n",
       "      <td>0</td>\n",
       "      <td>Lac_Eisenbergiella</td>\n",
       "      <td>8.15</td>\n",
       "      <td>0.75</td>\n",
       "    </tr>\n",
       "    <tr>\n",
       "      <td>1</td>\n",
       "      <td>Cor_Eggerthella</td>\n",
       "      <td>5.66</td>\n",
       "      <td>3.62</td>\n",
       "    </tr>\n",
       "    <tr>\n",
       "      <td>2</td>\n",
       "      <td>Pre_Prevotella</td>\n",
       "      <td>5.18</td>\n",
       "      <td>2.23</td>\n",
       "    </tr>\n",
       "    <tr>\n",
       "      <td>3</td>\n",
       "      <td>Tis_WAL_1855D</td>\n",
       "      <td>4.33</td>\n",
       "      <td>2.40</td>\n",
       "    </tr>\n",
       "    <tr>\n",
       "      <td>4</td>\n",
       "      <td>Ent_Cronobacter</td>\n",
       "      <td>4.08</td>\n",
       "      <td>2.73</td>\n",
       "    </tr>\n",
       "    <tr>\n",
       "      <td>5</td>\n",
       "      <td>Lac_Hungatella</td>\n",
       "      <td>4.00</td>\n",
       "      <td>0.35</td>\n",
       "    </tr>\n",
       "    <tr>\n",
       "      <td>6</td>\n",
       "      <td>Mog_Eubacterium</td>\n",
       "      <td>3.99</td>\n",
       "      <td>2.11</td>\n",
       "    </tr>\n",
       "    <tr>\n",
       "      <td>7</td>\n",
       "      <td>Ent_Edwardsiella</td>\n",
       "      <td>3.93</td>\n",
       "      <td>2.55</td>\n",
       "    </tr>\n",
       "    <tr>\n",
       "      <td>8</td>\n",
       "      <td>Bif_Bifidobacterium</td>\n",
       "      <td>3.85</td>\n",
       "      <td>2.03</td>\n",
       "    </tr>\n",
       "    <tr>\n",
       "      <td>9</td>\n",
       "      <td>Ery_Erysipelatoclostridium</td>\n",
       "      <td>3.19</td>\n",
       "      <td>1.85</td>\n",
       "    </tr>\n",
       "    <tr>\n",
       "      <td>10</td>\n",
       "      <td>Ent_Escherichia_Shigella</td>\n",
       "      <td>2.76</td>\n",
       "      <td>1.84</td>\n",
       "    </tr>\n",
       "    <tr>\n",
       "      <td>11</td>\n",
       "      <td>Ent_Tatumella</td>\n",
       "      <td>1.69</td>\n",
       "      <td>3.22</td>\n",
       "    </tr>\n",
       "  </tbody>\n",
       "</table>\n",
       "</div>"
      ],
      "text/plain": [
       "                         genus  score_m  score_s\n",
       "0           Lac_Eisenbergiella     8.15     0.75\n",
       "1              Cor_Eggerthella     5.66     3.62\n",
       "2               Pre_Prevotella     5.18     2.23\n",
       "3                Tis_WAL_1855D     4.33     2.40\n",
       "4              Ent_Cronobacter     4.08     2.73\n",
       "5               Lac_Hungatella     4.00     0.35\n",
       "6              Mog_Eubacterium     3.99     2.11\n",
       "7             Ent_Edwardsiella     3.93     2.55\n",
       "8          Bif_Bifidobacterium     3.85     2.03\n",
       "9   Ery_Erysipelatoclostridium     3.19     1.85\n",
       "10    Ent_Escherichia_Shigella     2.76     1.84\n",
       "11               Ent_Tatumella     1.69     3.22"
      ]
     },
     "execution_count": 38,
     "metadata": {},
     "output_type": "execute_result"
    }
   ],
   "source": [
    "heatMap_s"
   ]
  },
  {
   "cell_type": "code",
   "execution_count": null,
   "metadata": {},
   "outputs": [],
   "source": []
  },
  {
   "cell_type": "markdown",
   "metadata": {},
   "source": [
    "# 0.712 is the 99% quantile of asymptotic null distributions of the MV test statistic"
   ]
  },
  {
   "cell_type": "code",
   "execution_count": 39,
   "metadata": {},
   "outputs": [],
   "source": [
    "heatMap_s['score_m'] = heatMap_s['score_m'].apply(lambda x: 1 if x>0.712 else 0)"
   ]
  },
  {
   "cell_type": "code",
   "execution_count": 40,
   "metadata": {},
   "outputs": [],
   "source": [
    "heatMap_s['score_s'] = heatMap_s['score_s'].apply(lambda x: 1 if x>0.712 else 0)"
   ]
  },
  {
   "cell_type": "code",
   "execution_count": 41,
   "metadata": {},
   "outputs": [
    {
     "data": {
      "text/html": [
       "<div>\n",
       "<style scoped>\n",
       "    .dataframe tbody tr th:only-of-type {\n",
       "        vertical-align: middle;\n",
       "    }\n",
       "\n",
       "    .dataframe tbody tr th {\n",
       "        vertical-align: top;\n",
       "    }\n",
       "\n",
       "    .dataframe thead th {\n",
       "        text-align: right;\n",
       "    }\n",
       "</style>\n",
       "<table border=\"1\" class=\"dataframe\">\n",
       "  <thead>\n",
       "    <tr style=\"text-align: right;\">\n",
       "      <th></th>\n",
       "      <th>genus</th>\n",
       "      <th>score_m</th>\n",
       "      <th>score_s</th>\n",
       "    </tr>\n",
       "  </thead>\n",
       "  <tbody>\n",
       "    <tr>\n",
       "      <td>0</td>\n",
       "      <td>Lac_Eisenbergiella</td>\n",
       "      <td>1</td>\n",
       "      <td>1</td>\n",
       "    </tr>\n",
       "    <tr>\n",
       "      <td>1</td>\n",
       "      <td>Cor_Eggerthella</td>\n",
       "      <td>1</td>\n",
       "      <td>1</td>\n",
       "    </tr>\n",
       "    <tr>\n",
       "      <td>2</td>\n",
       "      <td>Pre_Prevotella</td>\n",
       "      <td>1</td>\n",
       "      <td>1</td>\n",
       "    </tr>\n",
       "    <tr>\n",
       "      <td>3</td>\n",
       "      <td>Tis_WAL_1855D</td>\n",
       "      <td>1</td>\n",
       "      <td>1</td>\n",
       "    </tr>\n",
       "    <tr>\n",
       "      <td>4</td>\n",
       "      <td>Ent_Cronobacter</td>\n",
       "      <td>1</td>\n",
       "      <td>1</td>\n",
       "    </tr>\n",
       "    <tr>\n",
       "      <td>5</td>\n",
       "      <td>Lac_Hungatella</td>\n",
       "      <td>1</td>\n",
       "      <td>0</td>\n",
       "    </tr>\n",
       "    <tr>\n",
       "      <td>6</td>\n",
       "      <td>Mog_Eubacterium</td>\n",
       "      <td>1</td>\n",
       "      <td>1</td>\n",
       "    </tr>\n",
       "    <tr>\n",
       "      <td>7</td>\n",
       "      <td>Ent_Edwardsiella</td>\n",
       "      <td>1</td>\n",
       "      <td>1</td>\n",
       "    </tr>\n",
       "    <tr>\n",
       "      <td>8</td>\n",
       "      <td>Bif_Bifidobacterium</td>\n",
       "      <td>1</td>\n",
       "      <td>1</td>\n",
       "    </tr>\n",
       "    <tr>\n",
       "      <td>9</td>\n",
       "      <td>Ery_Erysipelatoclostridium</td>\n",
       "      <td>1</td>\n",
       "      <td>1</td>\n",
       "    </tr>\n",
       "    <tr>\n",
       "      <td>10</td>\n",
       "      <td>Ent_Escherichia_Shigella</td>\n",
       "      <td>1</td>\n",
       "      <td>1</td>\n",
       "    </tr>\n",
       "    <tr>\n",
       "      <td>11</td>\n",
       "      <td>Ent_Tatumella</td>\n",
       "      <td>1</td>\n",
       "      <td>1</td>\n",
       "    </tr>\n",
       "  </tbody>\n",
       "</table>\n",
       "</div>"
      ],
      "text/plain": [
       "                         genus  score_m  score_s\n",
       "0           Lac_Eisenbergiella        1        1\n",
       "1              Cor_Eggerthella        1        1\n",
       "2               Pre_Prevotella        1        1\n",
       "3                Tis_WAL_1855D        1        1\n",
       "4              Ent_Cronobacter        1        1\n",
       "5               Lac_Hungatella        1        0\n",
       "6              Mog_Eubacterium        1        1\n",
       "7             Ent_Edwardsiella        1        1\n",
       "8          Bif_Bifidobacterium        1        1\n",
       "9   Ery_Erysipelatoclostridium        1        1\n",
       "10    Ent_Escherichia_Shigella        1        1\n",
       "11               Ent_Tatumella        1        1"
      ]
     },
     "execution_count": 41,
     "metadata": {},
     "output_type": "execute_result"
    }
   ],
   "source": [
    "heatMap_s"
   ]
  },
  {
   "cell_type": "code",
   "execution_count": null,
   "metadata": {},
   "outputs": [],
   "source": []
  },
  {
   "cell_type": "markdown",
   "metadata": {},
   "source": [
    "# Microbial biomarkers obtained by distribution-free independence test was similar between SD and MD"
   ]
  },
  {
   "cell_type": "code",
   "execution_count": 42,
   "metadata": {},
   "outputs": [
    {
     "data": {
      "text/html": [
       "<div>\n",
       "<style scoped>\n",
       "    .dataframe tbody tr th:only-of-type {\n",
       "        vertical-align: middle;\n",
       "    }\n",
       "\n",
       "    .dataframe tbody tr th {\n",
       "        vertical-align: top;\n",
       "    }\n",
       "\n",
       "    .dataframe thead th {\n",
       "        text-align: right;\n",
       "    }\n",
       "</style>\n",
       "<table border=\"1\" class=\"dataframe\">\n",
       "  <thead>\n",
       "    <tr style=\"text-align: right;\">\n",
       "      <th></th>\n",
       "      <th>genus</th>\n",
       "      <th>score_m</th>\n",
       "      <th>score_s</th>\n",
       "    </tr>\n",
       "  </thead>\n",
       "  <tbody>\n",
       "    <tr>\n",
       "      <td>0</td>\n",
       "      <td>Lac_Eisenbergiella</td>\n",
       "      <td>1</td>\n",
       "      <td>1</td>\n",
       "    </tr>\n",
       "    <tr>\n",
       "      <td>1</td>\n",
       "      <td>Cor_Eggerthella</td>\n",
       "      <td>1</td>\n",
       "      <td>1</td>\n",
       "    </tr>\n",
       "    <tr>\n",
       "      <td>2</td>\n",
       "      <td>Pre_Prevotella</td>\n",
       "      <td>1</td>\n",
       "      <td>1</td>\n",
       "    </tr>\n",
       "    <tr>\n",
       "      <td>3</td>\n",
       "      <td>Tis_WAL_1855D</td>\n",
       "      <td>1</td>\n",
       "      <td>1</td>\n",
       "    </tr>\n",
       "    <tr>\n",
       "      <td>4</td>\n",
       "      <td>Ent_Cronobacter</td>\n",
       "      <td>1</td>\n",
       "      <td>1</td>\n",
       "    </tr>\n",
       "    <tr>\n",
       "      <td>5</td>\n",
       "      <td>Lac_Hungatella</td>\n",
       "      <td>1</td>\n",
       "      <td>0</td>\n",
       "    </tr>\n",
       "    <tr>\n",
       "      <td>6</td>\n",
       "      <td>Mog_Eubacterium</td>\n",
       "      <td>1</td>\n",
       "      <td>1</td>\n",
       "    </tr>\n",
       "    <tr>\n",
       "      <td>7</td>\n",
       "      <td>Ent_Edwardsiella</td>\n",
       "      <td>1</td>\n",
       "      <td>1</td>\n",
       "    </tr>\n",
       "    <tr>\n",
       "      <td>8</td>\n",
       "      <td>Bif_Bifidobacterium</td>\n",
       "      <td>1</td>\n",
       "      <td>1</td>\n",
       "    </tr>\n",
       "    <tr>\n",
       "      <td>9</td>\n",
       "      <td>Ery_Erysipelatoclostridium</td>\n",
       "      <td>1</td>\n",
       "      <td>1</td>\n",
       "    </tr>\n",
       "    <tr>\n",
       "      <td>10</td>\n",
       "      <td>Ent_Escherichia_Shigella</td>\n",
       "      <td>1</td>\n",
       "      <td>1</td>\n",
       "    </tr>\n",
       "    <tr>\n",
       "      <td>11</td>\n",
       "      <td>Ent_Tatumella</td>\n",
       "      <td>1</td>\n",
       "      <td>1</td>\n",
       "    </tr>\n",
       "  </tbody>\n",
       "</table>\n",
       "</div>"
      ],
      "text/plain": [
       "                         genus  score_m  score_s\n",
       "0           Lac_Eisenbergiella        1        1\n",
       "1              Cor_Eggerthella        1        1\n",
       "2               Pre_Prevotella        1        1\n",
       "3                Tis_WAL_1855D        1        1\n",
       "4              Ent_Cronobacter        1        1\n",
       "5               Lac_Hungatella        1        0\n",
       "6              Mog_Eubacterium        1        1\n",
       "7             Ent_Edwardsiella        1        1\n",
       "8          Bif_Bifidobacterium        1        1\n",
       "9   Ery_Erysipelatoclostridium        1        1\n",
       "10    Ent_Escherichia_Shigella        1        1\n",
       "11               Ent_Tatumella        1        1"
      ]
     },
     "execution_count": 42,
     "metadata": {},
     "output_type": "execute_result"
    }
   ],
   "source": [
    "heatMap_s"
   ]
  },
  {
   "cell_type": "code",
   "execution_count": null,
   "metadata": {},
   "outputs": [],
   "source": []
  },
  {
   "cell_type": "code",
   "execution_count": null,
   "metadata": {},
   "outputs": [],
   "source": []
  },
  {
   "cell_type": "markdown",
   "metadata": {},
   "source": [
    "# Quartile"
   ]
  },
  {
   "cell_type": "code",
   "execution_count": 43,
   "metadata": {},
   "outputs": [
    {
     "data": {
      "text/plain": [
       "(936, 2011)"
      ]
     },
     "execution_count": 43,
     "metadata": {},
     "output_type": "execute_result"
    }
   ],
   "source": [
    "data_Single_Autoimmune.shape"
   ]
  },
  {
   "cell_type": "code",
   "execution_count": 44,
   "metadata": {},
   "outputs": [
    {
     "data": {
      "text/plain": [
       "(853, 2011)"
      ]
     },
     "execution_count": 44,
     "metadata": {},
     "output_type": "execute_result"
    }
   ],
   "source": [
    "data_Multiple.shape"
   ]
  },
  {
   "cell_type": "code",
   "execution_count": 45,
   "metadata": {},
   "outputs": [
    {
     "data": {
      "text/plain": [
       "['Lac_Eisenbergiella',\n",
       " 'Cor_Eggerthella',\n",
       " 'Pre_Prevotella',\n",
       " 'Tis_WAL_1855D',\n",
       " 'Ent_Cronobacter',\n",
       " 'Lac_Hungatella',\n",
       " 'Mog_Eubacterium',\n",
       " 'Ent_Edwardsiella',\n",
       " 'Bif_Bifidobacterium',\n",
       " 'Ery_Erysipelatoclostridium',\n",
       " 'Ent_Escherichia_Shigella',\n",
       " 'Ent_Tatumella']"
      ]
     },
     "execution_count": 45,
     "metadata": {},
     "output_type": "execute_result"
    }
   ],
   "source": [
    "list(heatMap_s['genus'])"
   ]
  },
  {
   "cell_type": "code",
   "execution_count": null,
   "metadata": {},
   "outputs": [],
   "source": []
  },
  {
   "cell_type": "code",
   "execution_count": 46,
   "metadata": {},
   "outputs": [],
   "source": [
    "data_Single_tmp = data_Single_Autoimmune[list(heatMap_s['genus'])+['label']]"
   ]
  },
  {
   "cell_type": "code",
   "execution_count": 47,
   "metadata": {},
   "outputs": [
    {
     "data": {
      "text/plain": [
       "468"
      ]
     },
     "execution_count": 47,
     "metadata": {},
     "output_type": "execute_result"
    }
   ],
   "source": [
    "sum(data_Single_tmp['label']==1)"
   ]
  },
  {
   "cell_type": "code",
   "execution_count": 48,
   "metadata": {},
   "outputs": [
    {
     "data": {
      "text/plain": [
       "468"
      ]
     },
     "execution_count": 48,
     "metadata": {},
     "output_type": "execute_result"
    }
   ],
   "source": [
    "sum(data_Single_tmp['label']==0)"
   ]
  },
  {
   "cell_type": "code",
   "execution_count": null,
   "metadata": {},
   "outputs": [],
   "source": []
  },
  {
   "cell_type": "code",
   "execution_count": null,
   "metadata": {},
   "outputs": [],
   "source": []
  },
  {
   "cell_type": "code",
   "execution_count": 49,
   "metadata": {},
   "outputs": [
    {
     "data": {
      "text/plain": [
       "Lac_Eisenbergiella            0.0\n",
       "Cor_Eggerthella               0.0\n",
       "Pre_Prevotella                0.0\n",
       "Tis_WAL_1855D                 0.0\n",
       "Ent_Cronobacter               0.0\n",
       "Lac_Hungatella                0.0\n",
       "Mog_Eubacterium               0.0\n",
       "Ent_Edwardsiella              0.0\n",
       "Bif_Bifidobacterium           0.0\n",
       "Ery_Erysipelatoclostridium    0.0\n",
       "Ent_Escherichia_Shigella      0.0\n",
       "Ent_Tatumella                 0.0\n",
       "label                         1.0\n",
       "dtype: float64"
      ]
     },
     "execution_count": 49,
     "metadata": {},
     "output_type": "execute_result"
    }
   ],
   "source": [
    "data_Single_tmp[data_Single_tmp['label']==1].min()"
   ]
  },
  {
   "cell_type": "code",
   "execution_count": 50,
   "metadata": {},
   "outputs": [
    {
     "data": {
      "text/plain": [
       "Lac_Eisenbergiella            0.000000\n",
       "Cor_Eggerthella               0.000000\n",
       "Pre_Prevotella                0.000156\n",
       "Tis_WAL_1855D                 0.000000\n",
       "Ent_Cronobacter               0.000000\n",
       "Lac_Hungatella                0.000000\n",
       "Mog_Eubacterium               0.000000\n",
       "Ent_Edwardsiella              0.000000\n",
       "Bif_Bifidobacterium           0.000024\n",
       "Ery_Erysipelatoclostridium    0.000000\n",
       "Ent_Escherichia_Shigella      0.002600\n",
       "Ent_Tatumella                 0.000000\n",
       "label                         1.000000\n",
       "Name: 0.25, dtype: float64"
      ]
     },
     "execution_count": 50,
     "metadata": {},
     "output_type": "execute_result"
    }
   ],
   "source": [
    "data_Single_tmp[data_Single_tmp['label']==1].quantile(0.25)"
   ]
  },
  {
   "cell_type": "code",
   "execution_count": 51,
   "metadata": {},
   "outputs": [
    {
     "data": {
      "text/plain": [
       "Lac_Eisenbergiella            0.000000\n",
       "Cor_Eggerthella               0.000000\n",
       "Pre_Prevotella                0.000661\n",
       "Tis_WAL_1855D                 0.000000\n",
       "Ent_Cronobacter               0.000053\n",
       "Lac_Hungatella                0.000000\n",
       "Mog_Eubacterium               0.000000\n",
       "Ent_Edwardsiella              0.000000\n",
       "Bif_Bifidobacterium           0.000246\n",
       "Ery_Erysipelatoclostridium    0.000050\n",
       "Ent_Escherichia_Shigella      0.054706\n",
       "Ent_Tatumella                 0.000000\n",
       "label                         1.000000\n",
       "dtype: float64"
      ]
     },
     "execution_count": 51,
     "metadata": {},
     "output_type": "execute_result"
    }
   ],
   "source": [
    "data_Single_tmp[data_Single_tmp['label']==1].median()"
   ]
  },
  {
   "cell_type": "code",
   "execution_count": 52,
   "metadata": {},
   "outputs": [
    {
     "data": {
      "text/plain": [
       "Lac_Eisenbergiella            0.000195\n",
       "Cor_Eggerthella               0.000070\n",
       "Pre_Prevotella                0.008365\n",
       "Tis_WAL_1855D                 0.000096\n",
       "Ent_Cronobacter               0.000274\n",
       "Lac_Hungatella                0.000015\n",
       "Mog_Eubacterium               0.000145\n",
       "Ent_Edwardsiella              0.000249\n",
       "Bif_Bifidobacterium           0.001590\n",
       "Ery_Erysipelatoclostridium    0.000568\n",
       "Ent_Escherichia_Shigella      0.462797\n",
       "Ent_Tatumella                 0.000208\n",
       "label                         1.000000\n",
       "Name: 0.75, dtype: float64"
      ]
     },
     "execution_count": 52,
     "metadata": {},
     "output_type": "execute_result"
    }
   ],
   "source": [
    "data_Single_tmp[data_Single_tmp['label']==1].quantile(0.75)"
   ]
  },
  {
   "cell_type": "code",
   "execution_count": 53,
   "metadata": {},
   "outputs": [
    {
     "data": {
      "text/plain": [
       "Lac_Eisenbergiella            0.088529\n",
       "Cor_Eggerthella               0.001856\n",
       "Pre_Prevotella                0.560772\n",
       "Tis_WAL_1855D                 0.063906\n",
       "Ent_Cronobacter               0.038901\n",
       "Lac_Hungatella                0.034345\n",
       "Mog_Eubacterium               0.021408\n",
       "Ent_Edwardsiella              0.001570\n",
       "Bif_Bifidobacterium           0.219451\n",
       "Ery_Erysipelatoclostridium    0.158302\n",
       "Ent_Escherichia_Shigella      0.974768\n",
       "Ent_Tatumella                 0.025229\n",
       "label                         1.000000\n",
       "dtype: float64"
      ]
     },
     "execution_count": 53,
     "metadata": {},
     "output_type": "execute_result"
    }
   ],
   "source": [
    "data_Single_tmp[data_Single_tmp['label']==1].max()"
   ]
  },
  {
   "cell_type": "code",
   "execution_count": null,
   "metadata": {},
   "outputs": [],
   "source": []
  },
  {
   "cell_type": "code",
   "execution_count": null,
   "metadata": {},
   "outputs": [],
   "source": []
  },
  {
   "cell_type": "code",
   "execution_count": 54,
   "metadata": {},
   "outputs": [
    {
     "data": {
      "text/plain": [
       "Lac_Eisenbergiella            0.0\n",
       "Cor_Eggerthella               0.0\n",
       "Pre_Prevotella                0.0\n",
       "Tis_WAL_1855D                 0.0\n",
       "Ent_Cronobacter               0.0\n",
       "Lac_Hungatella                0.0\n",
       "Mog_Eubacterium               0.0\n",
       "Ent_Edwardsiella              0.0\n",
       "Bif_Bifidobacterium           0.0\n",
       "Ery_Erysipelatoclostridium    0.0\n",
       "Ent_Escherichia_Shigella      0.0\n",
       "Ent_Tatumella                 0.0\n",
       "label                         0.0\n",
       "dtype: float64"
      ]
     },
     "execution_count": 54,
     "metadata": {},
     "output_type": "execute_result"
    }
   ],
   "source": [
    "data_Single_tmp[data_Single_tmp['label']==0].min()"
   ]
  },
  {
   "cell_type": "code",
   "execution_count": 55,
   "metadata": {},
   "outputs": [
    {
     "data": {
      "text/plain": [
       "Lac_Eisenbergiella            0.000000\n",
       "Cor_Eggerthella               0.000000\n",
       "Pre_Prevotella                0.000314\n",
       "Tis_WAL_1855D                 0.000000\n",
       "Ent_Cronobacter               0.000000\n",
       "Lac_Hungatella                0.000000\n",
       "Mog_Eubacterium               0.000000\n",
       "Ent_Edwardsiella              0.000000\n",
       "Bif_Bifidobacterium           0.000089\n",
       "Ery_Erysipelatoclostridium    0.000000\n",
       "Ent_Escherichia_Shigella      0.001078\n",
       "Ent_Tatumella                 0.000000\n",
       "label                         0.000000\n",
       "Name: 0.25, dtype: float64"
      ]
     },
     "execution_count": 55,
     "metadata": {},
     "output_type": "execute_result"
    }
   ],
   "source": [
    "data_Single_tmp[data_Single_tmp['label']==0].quantile(0.25)"
   ]
  },
  {
   "cell_type": "code",
   "execution_count": 56,
   "metadata": {},
   "outputs": [
    {
     "data": {
      "text/plain": [
       "Lac_Eisenbergiella            0.000000\n",
       "Cor_Eggerthella               0.000000\n",
       "Pre_Prevotella                0.001749\n",
       "Tis_WAL_1855D                 0.000000\n",
       "Ent_Cronobacter               0.000000\n",
       "Lac_Hungatella                0.000000\n",
       "Mog_Eubacterium               0.000000\n",
       "Ent_Edwardsiella              0.000000\n",
       "Bif_Bifidobacterium           0.000657\n",
       "Ery_Erysipelatoclostridium    0.000000\n",
       "Ent_Escherichia_Shigella      0.007026\n",
       "Ent_Tatumella                 0.000000\n",
       "label                         0.000000\n",
       "dtype: float64"
      ]
     },
     "execution_count": 56,
     "metadata": {},
     "output_type": "execute_result"
    }
   ],
   "source": [
    "data_Single_tmp[data_Single_tmp['label']==0].median()"
   ]
  },
  {
   "cell_type": "code",
   "execution_count": 57,
   "metadata": {},
   "outputs": [
    {
     "data": {
      "text/plain": [
       "Lac_Eisenbergiella            0.000125\n",
       "Cor_Eggerthella               0.000000\n",
       "Pre_Prevotella                0.023660\n",
       "Tis_WAL_1855D                 0.000196\n",
       "Ent_Cronobacter               0.000186\n",
       "Lac_Hungatella                0.000000\n",
       "Mog_Eubacterium               0.000046\n",
       "Ent_Edwardsiella              0.000154\n",
       "Bif_Bifidobacterium           0.003247\n",
       "Ery_Erysipelatoclostridium    0.000349\n",
       "Ent_Escherichia_Shigella      0.329562\n",
       "Ent_Tatumella                 0.000000\n",
       "label                         0.000000\n",
       "Name: 0.75, dtype: float64"
      ]
     },
     "execution_count": 57,
     "metadata": {},
     "output_type": "execute_result"
    }
   ],
   "source": [
    "data_Single_tmp[data_Single_tmp['label']==0].quantile(0.75)"
   ]
  },
  {
   "cell_type": "code",
   "execution_count": 58,
   "metadata": {},
   "outputs": [
    {
     "data": {
      "text/plain": [
       "Lac_Eisenbergiella            0.068194\n",
       "Cor_Eggerthella               0.003580\n",
       "Pre_Prevotella                0.839054\n",
       "Tis_WAL_1855D                 0.239647\n",
       "Ent_Cronobacter               0.012043\n",
       "Lac_Hungatella                0.013627\n",
       "Mog_Eubacterium               0.002858\n",
       "Ent_Edwardsiella              0.001310\n",
       "Bif_Bifidobacterium           0.858402\n",
       "Ery_Erysipelatoclostridium    0.016636\n",
       "Ent_Escherichia_Shigella      0.966805\n",
       "Ent_Tatumella                 0.020897\n",
       "label                         0.000000\n",
       "dtype: float64"
      ]
     },
     "execution_count": 58,
     "metadata": {},
     "output_type": "execute_result"
    }
   ],
   "source": [
    "data_Single_tmp[data_Single_tmp['label']==0].max()"
   ]
  },
  {
   "cell_type": "code",
   "execution_count": null,
   "metadata": {},
   "outputs": [],
   "source": []
  },
  {
   "cell_type": "code",
   "execution_count": null,
   "metadata": {},
   "outputs": [],
   "source": []
  },
  {
   "cell_type": "code",
   "execution_count": 59,
   "metadata": {},
   "outputs": [],
   "source": [
    "data_Multiple_tmp = data_Multiple[list(heatMap_s['genus'])+['label']]"
   ]
  },
  {
   "cell_type": "code",
   "execution_count": 60,
   "metadata": {},
   "outputs": [
    {
     "data": {
      "text/plain": [
       "385"
      ]
     },
     "execution_count": 60,
     "metadata": {},
     "output_type": "execute_result"
    }
   ],
   "source": [
    "sum(data_Multiple_tmp['label']==1)"
   ]
  },
  {
   "cell_type": "code",
   "execution_count": 61,
   "metadata": {},
   "outputs": [
    {
     "data": {
      "text/plain": [
       "468"
      ]
     },
     "execution_count": 61,
     "metadata": {},
     "output_type": "execute_result"
    }
   ],
   "source": [
    "sum(data_Multiple_tmp['label']==0)"
   ]
  },
  {
   "cell_type": "code",
   "execution_count": null,
   "metadata": {},
   "outputs": [],
   "source": []
  },
  {
   "cell_type": "code",
   "execution_count": null,
   "metadata": {},
   "outputs": [],
   "source": []
  },
  {
   "cell_type": "code",
   "execution_count": 62,
   "metadata": {},
   "outputs": [
    {
     "data": {
      "text/plain": [
       "Lac_Eisenbergiella            0.0\n",
       "Cor_Eggerthella               0.0\n",
       "Pre_Prevotella                0.0\n",
       "Tis_WAL_1855D                 0.0\n",
       "Ent_Cronobacter               0.0\n",
       "Lac_Hungatella                0.0\n",
       "Mog_Eubacterium               0.0\n",
       "Ent_Edwardsiella              0.0\n",
       "Bif_Bifidobacterium           0.0\n",
       "Ery_Erysipelatoclostridium    0.0\n",
       "Ent_Escherichia_Shigella      0.0\n",
       "Ent_Tatumella                 0.0\n",
       "label                         1.0\n",
       "dtype: float64"
      ]
     },
     "execution_count": 62,
     "metadata": {},
     "output_type": "execute_result"
    }
   ],
   "source": [
    "data_Multiple_tmp[data_Multiple_tmp['label']==1].min()"
   ]
  },
  {
   "cell_type": "code",
   "execution_count": 63,
   "metadata": {},
   "outputs": [
    {
     "data": {
      "text/plain": [
       "Lac_Eisenbergiella            0.000000\n",
       "Cor_Eggerthella               0.000000\n",
       "Pre_Prevotella                0.000105\n",
       "Tis_WAL_1855D                 0.000000\n",
       "Ent_Cronobacter               0.000000\n",
       "Lac_Hungatella                0.000000\n",
       "Mog_Eubacterium               0.000000\n",
       "Ent_Edwardsiella              0.000000\n",
       "Bif_Bifidobacterium           0.000015\n",
       "Ery_Erysipelatoclostridium    0.000000\n",
       "Ent_Escherichia_Shigella      0.002760\n",
       "Ent_Tatumella                 0.000000\n",
       "label                         1.000000\n",
       "Name: 0.25, dtype: float64"
      ]
     },
     "execution_count": 63,
     "metadata": {},
     "output_type": "execute_result"
    }
   ],
   "source": [
    "data_Multiple_tmp[data_Multiple_tmp['label']==1].quantile(0.25)"
   ]
  },
  {
   "cell_type": "code",
   "execution_count": 64,
   "metadata": {},
   "outputs": [
    {
     "data": {
      "text/plain": [
       "Lac_Eisenbergiella            0.000093\n",
       "Cor_Eggerthella               0.000000\n",
       "Pre_Prevotella                0.000396\n",
       "Tis_WAL_1855D                 0.000000\n",
       "Ent_Cronobacter               0.000087\n",
       "Lac_Hungatella                0.000000\n",
       "Mog_Eubacterium               0.000000\n",
       "Ent_Edwardsiella              0.000031\n",
       "Bif_Bifidobacterium           0.000168\n",
       "Ery_Erysipelatoclostridium    0.000092\n",
       "Ent_Escherichia_Shigella      0.103443\n",
       "Ent_Tatumella                 0.000000\n",
       "label                         1.000000\n",
       "dtype: float64"
      ]
     },
     "execution_count": 64,
     "metadata": {},
     "output_type": "execute_result"
    }
   ],
   "source": [
    "data_Multiple_tmp[data_Multiple_tmp['label']==1].median()"
   ]
  },
  {
   "cell_type": "code",
   "execution_count": 65,
   "metadata": {},
   "outputs": [
    {
     "data": {
      "text/plain": [
       "Lac_Eisenbergiella            0.000591\n",
       "Cor_Eggerthella               0.000110\n",
       "Pre_Prevotella                0.003625\n",
       "Tis_WAL_1855D                 0.000044\n",
       "Ent_Cronobacter               0.000287\n",
       "Lac_Hungatella                0.000123\n",
       "Mog_Eubacterium               0.000178\n",
       "Ent_Edwardsiella              0.000267\n",
       "Bif_Bifidobacterium           0.001150\n",
       "Ery_Erysipelatoclostridium    0.000823\n",
       "Ent_Escherichia_Shigella      0.498781\n",
       "Ent_Tatumella                 0.000203\n",
       "label                         1.000000\n",
       "Name: 0.75, dtype: float64"
      ]
     },
     "execution_count": 65,
     "metadata": {},
     "output_type": "execute_result"
    }
   ],
   "source": [
    "data_Multiple_tmp[data_Multiple_tmp['label']==1].quantile(0.75)"
   ]
  },
  {
   "cell_type": "code",
   "execution_count": 66,
   "metadata": {},
   "outputs": [
    {
     "data": {
      "text/plain": [
       "Lac_Eisenbergiella            0.016541\n",
       "Cor_Eggerthella               0.002021\n",
       "Pre_Prevotella                0.436239\n",
       "Tis_WAL_1855D                 0.092139\n",
       "Ent_Cronobacter               0.013894\n",
       "Lac_Hungatella                0.018164\n",
       "Mog_Eubacterium               0.013451\n",
       "Ent_Edwardsiella              0.001624\n",
       "Bif_Bifidobacterium           0.528050\n",
       "Ery_Erysipelatoclostridium    0.016438\n",
       "Ent_Escherichia_Shigella      0.983706\n",
       "Ent_Tatumella                 0.036923\n",
       "label                         1.000000\n",
       "dtype: float64"
      ]
     },
     "execution_count": 66,
     "metadata": {},
     "output_type": "execute_result"
    }
   ],
   "source": [
    "data_Multiple_tmp[data_Multiple_tmp['label']==1].max()"
   ]
  },
  {
   "cell_type": "code",
   "execution_count": null,
   "metadata": {},
   "outputs": [],
   "source": []
  },
  {
   "cell_type": "code",
   "execution_count": null,
   "metadata": {},
   "outputs": [],
   "source": []
  },
  {
   "cell_type": "code",
   "execution_count": 67,
   "metadata": {},
   "outputs": [
    {
     "data": {
      "text/plain": [
       "Lac_Eisenbergiella            0.0\n",
       "Cor_Eggerthella               0.0\n",
       "Pre_Prevotella                0.0\n",
       "Tis_WAL_1855D                 0.0\n",
       "Ent_Cronobacter               0.0\n",
       "Lac_Hungatella                0.0\n",
       "Mog_Eubacterium               0.0\n",
       "Ent_Edwardsiella              0.0\n",
       "Bif_Bifidobacterium           0.0\n",
       "Ery_Erysipelatoclostridium    0.0\n",
       "Ent_Escherichia_Shigella      0.0\n",
       "Ent_Tatumella                 0.0\n",
       "label                         0.0\n",
       "dtype: float64"
      ]
     },
     "execution_count": 67,
     "metadata": {},
     "output_type": "execute_result"
    }
   ],
   "source": [
    "data_Multiple_tmp[data_Multiple_tmp['label']==0].min()"
   ]
  },
  {
   "cell_type": "code",
   "execution_count": 68,
   "metadata": {},
   "outputs": [
    {
     "data": {
      "text/plain": [
       "Lac_Eisenbergiella            0.000000\n",
       "Cor_Eggerthella               0.000000\n",
       "Pre_Prevotella                0.000314\n",
       "Tis_WAL_1855D                 0.000000\n",
       "Ent_Cronobacter               0.000000\n",
       "Lac_Hungatella                0.000000\n",
       "Mog_Eubacterium               0.000000\n",
       "Ent_Edwardsiella              0.000000\n",
       "Bif_Bifidobacterium           0.000089\n",
       "Ery_Erysipelatoclostridium    0.000000\n",
       "Ent_Escherichia_Shigella      0.001078\n",
       "Ent_Tatumella                 0.000000\n",
       "label                         0.000000\n",
       "Name: 0.25, dtype: float64"
      ]
     },
     "execution_count": 68,
     "metadata": {},
     "output_type": "execute_result"
    }
   ],
   "source": [
    "data_Multiple_tmp[data_Multiple_tmp['label']==0].quantile(0.25)"
   ]
  },
  {
   "cell_type": "code",
   "execution_count": 69,
   "metadata": {},
   "outputs": [
    {
     "data": {
      "text/plain": [
       "Lac_Eisenbergiella            0.000000\n",
       "Cor_Eggerthella               0.000000\n",
       "Pre_Prevotella                0.001749\n",
       "Tis_WAL_1855D                 0.000000\n",
       "Ent_Cronobacter               0.000000\n",
       "Lac_Hungatella                0.000000\n",
       "Mog_Eubacterium               0.000000\n",
       "Ent_Edwardsiella              0.000000\n",
       "Bif_Bifidobacterium           0.000657\n",
       "Ery_Erysipelatoclostridium    0.000000\n",
       "Ent_Escherichia_Shigella      0.007026\n",
       "Ent_Tatumella                 0.000000\n",
       "label                         0.000000\n",
       "dtype: float64"
      ]
     },
     "execution_count": 69,
     "metadata": {},
     "output_type": "execute_result"
    }
   ],
   "source": [
    "data_Multiple_tmp[data_Multiple_tmp['label']==0].median()"
   ]
  },
  {
   "cell_type": "code",
   "execution_count": 70,
   "metadata": {},
   "outputs": [
    {
     "data": {
      "text/plain": [
       "Lac_Eisenbergiella            0.000125\n",
       "Cor_Eggerthella               0.000000\n",
       "Pre_Prevotella                0.023660\n",
       "Tis_WAL_1855D                 0.000196\n",
       "Ent_Cronobacter               0.000186\n",
       "Lac_Hungatella                0.000000\n",
       "Mog_Eubacterium               0.000046\n",
       "Ent_Edwardsiella              0.000154\n",
       "Bif_Bifidobacterium           0.003247\n",
       "Ery_Erysipelatoclostridium    0.000349\n",
       "Ent_Escherichia_Shigella      0.329562\n",
       "Ent_Tatumella                 0.000000\n",
       "label                         0.000000\n",
       "Name: 0.75, dtype: float64"
      ]
     },
     "execution_count": 70,
     "metadata": {},
     "output_type": "execute_result"
    }
   ],
   "source": [
    "data_Multiple_tmp[data_Multiple_tmp['label']==0].quantile(0.75)"
   ]
  },
  {
   "cell_type": "code",
   "execution_count": 71,
   "metadata": {},
   "outputs": [
    {
     "data": {
      "text/plain": [
       "Lac_Eisenbergiella            0.068194\n",
       "Cor_Eggerthella               0.003580\n",
       "Pre_Prevotella                0.839054\n",
       "Tis_WAL_1855D                 0.239647\n",
       "Ent_Cronobacter               0.012043\n",
       "Lac_Hungatella                0.013627\n",
       "Mog_Eubacterium               0.002858\n",
       "Ent_Edwardsiella              0.001310\n",
       "Bif_Bifidobacterium           0.858402\n",
       "Ery_Erysipelatoclostridium    0.016636\n",
       "Ent_Escherichia_Shigella      0.966805\n",
       "Ent_Tatumella                 0.020897\n",
       "label                         0.000000\n",
       "dtype: float64"
      ]
     },
     "execution_count": 71,
     "metadata": {},
     "output_type": "execute_result"
    }
   ],
   "source": [
    "data_Multiple_tmp[data_Multiple_tmp['label']==0].max()"
   ]
  },
  {
   "cell_type": "code",
   "execution_count": null,
   "metadata": {},
   "outputs": [],
   "source": []
  },
  {
   "cell_type": "code",
   "execution_count": null,
   "metadata": {},
   "outputs": [],
   "source": []
  },
  {
   "cell_type": "markdown",
   "metadata": {},
   "source": [
    "# First tree of lgb"
   ]
  },
  {
   "cell_type": "code",
   "execution_count": null,
   "metadata": {},
   "outputs": [],
   "source": []
  },
  {
   "cell_type": "code",
   "execution_count": 72,
   "metadata": {},
   "outputs": [],
   "source": [
    "clf = lgb.LGBMClassifier(learning_rate=0.02,max_depth=5,n_estimators=1000,random_state=2021,num_leaves=32,\n",
    "                         n_jobs=2,subsample=0.8,subsample_freq=5,colsample_bytree=0.8)"
   ]
  },
  {
   "cell_type": "code",
   "execution_count": 73,
   "metadata": {},
   "outputs": [],
   "source": [
    "std_ = data_Single_Autoimmune[column_names].std()\n",
    "feats = [x for x in data_Single_Autoimmune[column_names].columns if x not in list(std_[std_==0].index)]"
   ]
  },
  {
   "cell_type": "code",
   "execution_count": null,
   "metadata": {},
   "outputs": [],
   "source": []
  },
  {
   "cell_type": "code",
   "execution_count": 74,
   "metadata": {},
   "outputs": [
    {
     "data": {
      "text/plain": [
       "LGBMClassifier(colsample_bytree=0.8, learning_rate=0.02, max_depth=5,\n",
       "               n_estimators=1000, n_jobs=2, num_leaves=32, random_state=2021,\n",
       "               subsample=0.8, subsample_freq=5)"
      ]
     },
     "execution_count": 74,
     "metadata": {},
     "output_type": "execute_result"
    }
   ],
   "source": [
    "clf.fit(data_Single_Autoimmune[feats],data_Single_Autoimmune['label'])"
   ]
  },
  {
   "cell_type": "code",
   "execution_count": 75,
   "metadata": {},
   "outputs": [
    {
     "data": {
      "text/plain": [
       "'Tree_Autoimmune_SD.gv.pdf'"
      ]
     },
     "execution_count": 75,
     "metadata": {},
     "output_type": "execute_result"
    }
   ],
   "source": [
    "graph = lgb.create_tree_digraph(clf, tree_index=0, name='Tree_Autoimmune_SD')\n",
    "graph.render(view=True)"
   ]
  },
  {
   "cell_type": "code",
   "execution_count": null,
   "metadata": {},
   "outputs": [],
   "source": []
  },
  {
   "cell_type": "code",
   "execution_count": null,
   "metadata": {},
   "outputs": [],
   "source": []
  },
  {
   "cell_type": "code",
   "execution_count": 76,
   "metadata": {},
   "outputs": [],
   "source": [
    "std_ = data_Multiple[column_names].std()\n",
    "feats = [x for x in data_Multiple[column_names].columns if x not in list(std_[std_==0].index)]"
   ]
  },
  {
   "cell_type": "code",
   "execution_count": 77,
   "metadata": {},
   "outputs": [
    {
     "data": {
      "text/plain": [
       "LGBMClassifier(colsample_bytree=0.8, learning_rate=0.02, max_depth=5,\n",
       "               n_estimators=1000, n_jobs=2, num_leaves=32, random_state=2021,\n",
       "               subsample=0.8, subsample_freq=5)"
      ]
     },
     "execution_count": 77,
     "metadata": {},
     "output_type": "execute_result"
    }
   ],
   "source": [
    "clf.fit(data_Multiple[feats],data_Multiple['label'])"
   ]
  },
  {
   "cell_type": "code",
   "execution_count": 78,
   "metadata": {},
   "outputs": [
    {
     "data": {
      "text/plain": [
       "'Tree_Autoimmune_MD.gv.pdf'"
      ]
     },
     "execution_count": 78,
     "metadata": {},
     "output_type": "execute_result"
    }
   ],
   "source": [
    "graph = lgb.create_tree_digraph(clf, tree_index=0, name='Tree_Autoimmune_MD')\n",
    "graph.render(view=True)"
   ]
  },
  {
   "cell_type": "code",
   "execution_count": null,
   "metadata": {},
   "outputs": [],
   "source": []
  },
  {
   "cell_type": "code",
   "execution_count": null,
   "metadata": {},
   "outputs": [],
   "source": []
  },
  {
   "cell_type": "code",
   "execution_count": null,
   "metadata": {},
   "outputs": [],
   "source": []
  },
  {
   "cell_type": "code",
   "execution_count": null,
   "metadata": {},
   "outputs": [],
   "source": []
  }
 ],
 "metadata": {
  "kernelspec": {
   "display_name": "Python 3",
   "language": "python",
   "name": "python3"
  },
  "language_info": {
   "codemirror_mode": {
    "name": "ipython",
    "version": 3
   },
   "file_extension": ".py",
   "mimetype": "text/x-python",
   "name": "python",
   "nbconvert_exporter": "python",
   "pygments_lexer": "ipython3",
   "version": "3.7.4"
  }
 },
 "nbformat": 4,
 "nbformat_minor": 2
}
