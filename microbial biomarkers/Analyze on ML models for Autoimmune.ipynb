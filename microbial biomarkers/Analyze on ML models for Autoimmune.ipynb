{
 "cells": [
  {
   "cell_type": "code",
   "execution_count": 1,
   "metadata": {},
   "outputs": [],
   "source": [
    "import pandas as pd\n",
    "import numpy as np\n",
    "import lightgbm as lgb\n",
    "\n",
    "from sklearn.model_selection import StratifiedKFold\n",
    "from sklearn.metrics import accuracy_score, f1_score, auc, roc_curve\n",
    "from sklearn.linear_model import LogisticRegression\n",
    "\n",
    "import matplotlib.pyplot as plt\n",
    "\n",
    "import random\n",
    "\n",
    "import warnings \n",
    "warnings.filterwarnings(\"ignore\") "
   ]
  },
  {
   "cell_type": "code",
   "execution_count": null,
   "metadata": {},
   "outputs": [],
   "source": []
  },
  {
   "cell_type": "code",
   "execution_count": null,
   "metadata": {},
   "outputs": [],
   "source": []
  },
  {
   "cell_type": "code",
   "execution_count": 2,
   "metadata": {},
   "outputs": [],
   "source": [
    "def genData(df_tmp,df_health,runID_pos,disease,randomState=0):\n",
    "    df_pos = df_tmp[ ( df_tmp['SampleID'].isin(runID_pos) ) & ( df_tmp['disease'] == disease )].drop_duplicates()\n",
    "    df_pos['label'] = 1\n",
    "    \n",
    "    random.seed(randomState)\n",
    "    neg_idx = random.sample(range(len(df_health)), len(df_pos))\n",
    "    df_neg = df_health.loc[neg_idx]\n",
    "    df_neg['label'] = 0\n",
    "    \n",
    "    df_health_new = df_health.loc[~df_health.index.isin(neg_idx)]\n",
    "    df_health_new = df_health_new.reset_index(drop=True)\n",
    "    \n",
    "    data = pd.concat([df_pos,df_neg])\n",
    "    data = data.reset_index(drop=True)\n",
    "    return data,df_health_new\n",
    "\n"
   ]
  },
  {
   "cell_type": "code",
   "execution_count": null,
   "metadata": {},
   "outputs": [],
   "source": []
  },
  {
   "cell_type": "code",
   "execution_count": 3,
   "metadata": {},
   "outputs": [],
   "source": [
    "def Eval(true, prob):\n",
    "    fpr, tpr, thresholds = roc_curve(true, prob, pos_label=1)\n",
    "    auc_tmp = auc(fpr, tpr)\n",
    "\n",
    "    prob[prob<0.5] = 0\n",
    "    prob[prob>=0.5] = 1\n",
    "    f1_tmp = f1_score(true,prob)\n",
    "    return auc_tmp, f1_tmp"
   ]
  },
  {
   "cell_type": "code",
   "execution_count": null,
   "metadata": {},
   "outputs": [],
   "source": []
  },
  {
   "cell_type": "code",
   "execution_count": 4,
   "metadata": {},
   "outputs": [],
   "source": [
    "def genData_test(df_tmp,df_health,runID_pos,disease,randomState=0):\n",
    "    df_pos = df_tmp[ df_tmp['SampleID'].isin(runID_pos ) \n",
    "                    & ( df_tmp['disease'] == disease )].drop_duplicates()    \n",
    "    df_pos['label'] = 1    \n",
    "    df_pos = df_pos.reset_index(drop=True)\n",
    "    \n",
    "    random.seed(randomState)\n",
    "    pos_idx = random.sample(range(len(df_pos)), len(df_health))\n",
    "    \n",
    "    data_Multiple = pd.concat([df_pos.loc[pos_idx,df_health.columns],df_health])\n",
    "    data_Multiple = data_Multiple.reset_index(drop=True)   \n",
    "    \n",
    "    return data_Multiple"
   ]
  },
  {
   "cell_type": "code",
   "execution_count": null,
   "metadata": {},
   "outputs": [],
   "source": []
  },
  {
   "cell_type": "code",
   "execution_count": 5,
   "metadata": {},
   "outputs": [],
   "source": [
    "df_disease = pd.read_csv('patients_ID.csv',low_memory=False)\n",
    "del df_disease['Unnamed: 0']\n",
    "df_disease.columns = ['SampleID','disease']"
   ]
  },
  {
   "cell_type": "code",
   "execution_count": null,
   "metadata": {},
   "outputs": [],
   "source": []
  },
  {
   "cell_type": "code",
   "execution_count": 6,
   "metadata": {},
   "outputs": [],
   "source": [
    "df = pd.read_csv('disease_health.genus_new.Abd',sep='\\t',low_memory=False)\n",
    "\n",
    "disease_SampleID = set(df['SampleID']) & set(df_disease['SampleID'])"
   ]
  },
  {
   "cell_type": "code",
   "execution_count": null,
   "metadata": {},
   "outputs": [],
   "source": []
  },
  {
   "cell_type": "code",
   "execution_count": null,
   "metadata": {},
   "outputs": [],
   "source": []
  },
  {
   "cell_type": "code",
   "execution_count": null,
   "metadata": {},
   "outputs": [],
   "source": []
  },
  {
   "cell_type": "code",
   "execution_count": null,
   "metadata": {},
   "outputs": [],
   "source": []
  },
  {
   "cell_type": "code",
   "execution_count": 7,
   "metadata": {},
   "outputs": [],
   "source": [
    "df_health = pd.read_csv('health.csv')"
   ]
  },
  {
   "cell_type": "code",
   "execution_count": 8,
   "metadata": {},
   "outputs": [],
   "source": [
    "df_all = pd.concat([df_disease.loc[df_disease['SampleID'].isin(disease_SampleID)],df_health])\n",
    "df_all = df_all.reset_index(drop=True)"
   ]
  },
  {
   "cell_type": "code",
   "execution_count": null,
   "metadata": {},
   "outputs": [],
   "source": []
  },
  {
   "cell_type": "code",
   "execution_count": 9,
   "metadata": {},
   "outputs": [],
   "source": [
    "df_new = df_all.merge(df,how='left',on=['SampleID'])"
   ]
  },
  {
   "cell_type": "code",
   "execution_count": 10,
   "metadata": {},
   "outputs": [],
   "source": [
    "df_new_s = df_new[df_new['Unclassified']<0.05]\n",
    "df_new_s = df_new_s.reset_index(drop=True)"
   ]
  },
  {
   "cell_type": "code",
   "execution_count": 11,
   "metadata": {},
   "outputs": [],
   "source": [
    "df_health_s = df_new_s[df_new_s['disease']=='health']\n",
    "df_health_s = df_health_s.reset_index(drop=True)"
   ]
  },
  {
   "cell_type": "code",
   "execution_count": 12,
   "metadata": {},
   "outputs": [
    {
     "data": {
      "text/plain": [
       "(3274, 2010)"
      ]
     },
     "execution_count": 12,
     "metadata": {},
     "output_type": "execute_result"
    }
   ],
   "source": [
    "df_health_s.shape"
   ]
  },
  {
   "cell_type": "code",
   "execution_count": null,
   "metadata": {},
   "outputs": [],
   "source": []
  },
  {
   "cell_type": "code",
   "execution_count": 13,
   "metadata": {},
   "outputs": [],
   "source": [
    "column_names = [x for x in df_new_s.columns if x !='SampleID' and x !='disease' and x !='Unclassified']"
   ]
  },
  {
   "cell_type": "code",
   "execution_count": 14,
   "metadata": {},
   "outputs": [],
   "source": [
    "disease_sta = pd.DataFrame(df_new_s[['SampleID','disease']].groupby('SampleID',as_index=False).agg(set))"
   ]
  },
  {
   "cell_type": "code",
   "execution_count": null,
   "metadata": {},
   "outputs": [],
   "source": []
  },
  {
   "cell_type": "code",
   "execution_count": 15,
   "metadata": {},
   "outputs": [],
   "source": [
    "disease_name = 'ibs'\n",
    "another_name = 'autoimmune'\n",
    "\n",
    "def isDisease(x):\n",
    "    if disease_name in x and len(x)==1:\n",
    "        return 'IBS'\n",
    "    elif another_name in x and len(x)==1:\n",
    "        return 'Autoimmune'\n",
    "    elif disease_name in x and another_name in x:\n",
    "        return 'Multiple'\n",
    "    else:\n",
    "        return 'Other'\n",
    "    \n",
    "disease_sta['which_disease'] = disease_sta['disease'].apply(lambda x: isDisease(x))"
   ]
  },
  {
   "cell_type": "code",
   "execution_count": null,
   "metadata": {},
   "outputs": [],
   "source": []
  },
  {
   "cell_type": "code",
   "execution_count": 16,
   "metadata": {},
   "outputs": [
    {
     "data": {
      "text/plain": [
       "385"
      ]
     },
     "execution_count": 16,
     "metadata": {},
     "output_type": "execute_result"
    }
   ],
   "source": [
    "sum( disease_sta['which_disease']=='Multiple')"
   ]
  },
  {
   "cell_type": "code",
   "execution_count": null,
   "metadata": {},
   "outputs": [],
   "source": []
  },
  {
   "cell_type": "code",
   "execution_count": 17,
   "metadata": {},
   "outputs": [],
   "source": [
    "data_Single_Autoimmune, df_health_new = genData(df_new_s,df_health_s,\n",
    "                                             set(disease_sta.loc[disease_sta['which_disease']=='Autoimmune','SampleID']),\n",
    "                                             another_name)   "
   ]
  },
  {
   "cell_type": "code",
   "execution_count": null,
   "metadata": {},
   "outputs": [],
   "source": []
  },
  {
   "cell_type": "code",
   "execution_count": 18,
   "metadata": {},
   "outputs": [],
   "source": [
    "random.seed(2020)\n",
    "\n",
    "data_Single_Autoimmune_pos = data_Single_Autoimmune[data_Single_Autoimmune['label']==1]\n",
    "data_Single_Autoimmune_pos = data_Single_Autoimmune_pos.reset_index(drop=True)\n",
    "\n",
    "pos_idx = random.sample(range(int(len(data_Single_Autoimmune)/2)), 450) \n",
    "\n",
    "\n",
    "\n",
    "data_Single_Autoimmune_neg = data_Single_Autoimmune[data_Single_Autoimmune['label']==0]\n",
    "data_Single_Autoimmune_neg = data_Single_Autoimmune_neg.reset_index(drop=True)\n",
    "\n",
    "random.seed(2020)\n",
    "\n",
    "neg_idx = random.sample(range(int(len(data_Single_Autoimmune)/2)), 450)\n",
    "\n",
    "\n",
    "data_Single_Autoimmune_s = pd.concat([data_Single_Autoimmune_pos.loc[pos_idx],data_Single_Autoimmune_neg.loc[neg_idx]])\n",
    "data_Single_Autoimmune_s = data_Single_Autoimmune_s.reset_index(drop=True)"
   ]
  },
  {
   "cell_type": "code",
   "execution_count": 19,
   "metadata": {},
   "outputs": [
    {
     "data": {
      "text/plain": [
       "(900, 2011)"
      ]
     },
     "execution_count": 19,
     "metadata": {},
     "output_type": "execute_result"
    }
   ],
   "source": [
    "data_Single_Autoimmune_s.shape"
   ]
  },
  {
   "cell_type": "code",
   "execution_count": 20,
   "metadata": {},
   "outputs": [],
   "source": [
    "from mvtpy import mvtest"
   ]
  },
  {
   "cell_type": "code",
   "execution_count": 21,
   "metadata": {},
   "outputs": [],
   "source": [
    "mv = mvtest.mvtest()"
   ]
  },
  {
   "cell_type": "code",
   "execution_count": null,
   "metadata": {},
   "outputs": [],
   "source": []
  },
  {
   "cell_type": "code",
   "execution_count": 22,
   "metadata": {},
   "outputs": [],
   "source": [
    "res = []\n",
    "for each in column_names:\n",
    "    res.append( ( each, mv.test(data_Single_Autoimmune_s[each], data_Single_Autoimmune_s['label'])['Tn'] ))"
   ]
  },
  {
   "cell_type": "code",
   "execution_count": 23,
   "metadata": {},
   "outputs": [],
   "source": [
    "res_Autoimmune = sorted(res,key=lambda x:x[1],reverse=True)"
   ]
  },
  {
   "cell_type": "code",
   "execution_count": 24,
   "metadata": {},
   "outputs": [],
   "source": [
    "res_Autoimmune_s = [x[0] for x in res_Autoimmune if x[1]>0.712]"
   ]
  },
  {
   "cell_type": "code",
   "execution_count": null,
   "metadata": {},
   "outputs": [],
   "source": []
  },
  {
   "cell_type": "code",
   "execution_count": 25,
   "metadata": {},
   "outputs": [
    {
     "data": {
      "text/plain": [
       "[('Cor_Eggerthella', 3.77),\n",
       " ('Ent_Tatumella', 2.62),\n",
       " ('Ent_Cronobacter', 2.55),\n",
       " ('Tis_WAL_1855D', 2.45),\n",
       " ('Ent_Edwardsiella', 2.39),\n",
       " ('Mog_Eubacterium', 2.39),\n",
       " ('Pre_Prevotella', 2.18),\n",
       " ('Lac_Tyzzerella', 2.01),\n",
       " ('Ery_Erysipelatoclostridium', 1.91),\n",
       " ('Bif_Bifidobacterium', 1.76),\n",
       " ('Ent_Escherichia_Shigella', 1.73)]"
      ]
     },
     "execution_count": 25,
     "metadata": {},
     "output_type": "execute_result"
    }
   ],
   "source": [
    "res_Autoimmune[:11]"
   ]
  },
  {
   "cell_type": "code",
   "execution_count": null,
   "metadata": {},
   "outputs": [],
   "source": []
  },
  {
   "cell_type": "code",
   "execution_count": 26,
   "metadata": {},
   "outputs": [],
   "source": [
    "kf = StratifiedKFold(n_splits  = 5, shuffle=True, random_state=2020)\n",
    "\n",
    "clf = lgb.LGBMClassifier(learning_rate=0.02,max_depth=5,n_estimators=1000,random_state=2020,num_leaves=32,\n",
    "                         n_jobs=2,subsample=0.8,subsample_freq=5,colsample_bytree=0.8)\n",
    "train = data_Single_Autoimmune_s[column_names+['label']]\n",
    "std_ = train[column_names].std()\n",
    "feats = [x for x in train[column_names].columns if x not in list(std_[std_==0].index)]\n",
    "\n",
    "\n",
    "\n",
    "auc_single_array = np.zeros(5)\n",
    "f1_single_array = np.zeros(5)\n",
    "\n",
    "auc_multiple_array = np.zeros(5)\n",
    "f1_multiple_array = np.zeros(5)\n",
    "\n",
    "auc_combine_array = np.zeros(5)\n",
    "f1_combine_array = np.zeros(5)\n",
    "\n",
    "count = 0\n",
    "\n",
    "\n",
    "for train_index, test_index in kf.split(train,train['label']):\n",
    "\n",
    "    \n",
    "    train_, test_ = train.loc[train_index], train.loc[test_index]\n",
    "    y_test = test_['label']\n",
    "\n",
    "\n",
    "    \n",
    "    clf.fit(train_[feats],train_['label'])\n",
    "    y_pred = clf.predict_proba(test_[feats])[:,1]    \n",
    "    \n",
    "    auc_single_array[count], f1_single_array[count] = Eval(y_test, y_pred)\n",
    "    \n",
    "    data_Multiple = genData_test(df_new_s,train_[train_['label']==0],\n",
    "                                 set(disease_sta.loc[disease_sta['which_disease']=='Multiple','SampleID']) ,disease_name)\n",
    "    \n",
    "\n",
    "    \n",
    "    clf.fit(data_Multiple[feats],data_Multiple['label'])\n",
    "    y_pred = clf.predict_proba(test_[feats])[:,1]\n",
    "    \n",
    "    auc_multiple_array[count], f1_multiple_array[count] = Eval(y_test, y_pred)\n",
    "    \n",
    "    \n",
    "    \n",
    "    train_s = train_[train_['label']==1]\n",
    "    train_s = train_s.reset_index(drop=True)\n",
    "    #data_Multiple.loc[data_Multiple['label']==1,'label'] = 2\n",
    "    \n",
    "    data_Multiple_s = data_Multiple[data_Multiple['label']==1]\n",
    "    data_Multiple_s = data_Multiple_s.reset_index(drop=True)\n",
    "    \n",
    "    \n",
    "\n",
    "    #data_combine = pd.concat([data_Multiple,train_s])\n",
    "    data_combine = pd.concat([train_s.loc[:int(len(train_s)/2),],\n",
    "                              data_Multiple_s.loc[:int(len(data_Multiple_s)/2)],\n",
    "                              data_Multiple[data_Multiple['label']==0]])\n",
    "    data_combine = data_combine.reset_index(drop=True)    \n",
    "    \n",
    "    clf.fit(data_combine[feats],data_combine['label'])\n",
    "    y_pred = clf.predict_proba(test_[feats])[:,1]\n",
    "    auc_combine_array[count], f1_combine_array[count] = Eval(y_test,y_pred)    \n",
    "    \n",
    "    count = count + 1"
   ]
  },
  {
   "cell_type": "code",
   "execution_count": null,
   "metadata": {},
   "outputs": [],
   "source": []
  },
  {
   "cell_type": "code",
   "execution_count": 27,
   "metadata": {},
   "outputs": [],
   "source": [
    "res = []\n",
    "for each in column_names:\n",
    "    res.append( ( each, mv.test(data_Multiple[each], data_Multiple['label'])['Tn'] ))"
   ]
  },
  {
   "cell_type": "code",
   "execution_count": 28,
   "metadata": {},
   "outputs": [],
   "source": [
    "res_Multi = sorted(res,key=lambda x:x[1],reverse=True)"
   ]
  },
  {
   "cell_type": "code",
   "execution_count": 29,
   "metadata": {},
   "outputs": [],
   "source": [
    "res_Multi_s = [x[0] for x in res_Multi if x[1]>0.712]"
   ]
  },
  {
   "cell_type": "code",
   "execution_count": 30,
   "metadata": {},
   "outputs": [
    {
     "data": {
      "text/plain": [
       "63"
      ]
     },
     "execution_count": 30,
     "metadata": {},
     "output_type": "execute_result"
    }
   ],
   "source": [
    "len(res_Multi_s)"
   ]
  },
  {
   "cell_type": "code",
   "execution_count": 31,
   "metadata": {},
   "outputs": [
    {
     "data": {
      "text/plain": [
       "[('Lac_Eisenbergiella', 7.47),\n",
       " ('Cor_Eggerthella', 5.29),\n",
       " ('Ent_Cronobacter', 4.12),\n",
       " ('Pre_Prevotella', 3.87),\n",
       " ('Ent_Edwardsiella', 3.81),\n",
       " ('Mog_Eubacterium', 3.69),\n",
       " ('Lac_Hungatella', 3.62),\n",
       " ('Bif_Bifidobacterium', 3.46),\n",
       " ('Ery_Erysipelatoclostridium', 3.35),\n",
       " ('Tis_WAL_1855D', 3.15),\n",
       " ('Ent_Escherichia_Shigella', 2.9),\n",
       " ('Pas_Haemophilus', 2.6),\n",
       " ('Pep_Romboutsia', 2.43),\n",
       " ('Por_Porphyromonas', 2.38),\n",
       " ('Ery_Holdemania', 2.36),\n",
       " ('Lac_Tyzzerella', 2.19),\n",
       " ('Phy_Phyllobacterium', 1.97),\n",
       " ('Rum_Oscillospira', 1.93),\n",
       " ('Tis_Finegoldia', 1.91),\n",
       " ('Str_Lactococcus', 1.85)]"
      ]
     },
     "execution_count": 31,
     "metadata": {},
     "output_type": "execute_result"
    }
   ],
   "source": [
    "res_Multi[:20]"
   ]
  },
  {
   "cell_type": "code",
   "execution_count": null,
   "metadata": {},
   "outputs": [],
   "source": []
  },
  {
   "cell_type": "code",
   "execution_count": 32,
   "metadata": {},
   "outputs": [
    {
     "data": {
      "text/plain": [
       "{'Bif_Bifidobacterium',\n",
       " 'Cor_Eggerthella',\n",
       " 'Ent_Cronobacter',\n",
       " 'Ent_Edwardsiella',\n",
       " 'Ery_Erysipelatoclostridium',\n",
       " 'Mog_Eubacterium',\n",
       " 'Pre_Prevotella',\n",
       " 'Tis_WAL_1855D'}"
      ]
     },
     "execution_count": 32,
     "metadata": {},
     "output_type": "execute_result"
    }
   ],
   "source": [
    "set(res_Multi_s[:10]) & set(res_Autoimmune_s[:10])"
   ]
  },
  {
   "cell_type": "code",
   "execution_count": null,
   "metadata": {},
   "outputs": [],
   "source": []
  },
  {
   "cell_type": "code",
   "execution_count": 33,
   "metadata": {},
   "outputs": [
    {
     "data": {
      "text/plain": [
       "12"
      ]
     },
     "execution_count": 33,
     "metadata": {},
     "output_type": "execute_result"
    }
   ],
   "source": [
    "len( set(res_Multi_s[:10]) | set(res_Autoimmune_s[:10]))"
   ]
  },
  {
   "cell_type": "code",
   "execution_count": null,
   "metadata": {},
   "outputs": [],
   "source": []
  },
  {
   "cell_type": "code",
   "execution_count": 34,
   "metadata": {},
   "outputs": [],
   "source": [
    "df_Autoimmune = pd.DataFrame({'genus':[x[0] for x in res_Autoimmune], 'score_s':[x[1] for x in res_Autoimmune]})"
   ]
  },
  {
   "cell_type": "code",
   "execution_count": 35,
   "metadata": {},
   "outputs": [
    {
     "data": {
      "text/html": [
       "<div>\n",
       "<style scoped>\n",
       "    .dataframe tbody tr th:only-of-type {\n",
       "        vertical-align: middle;\n",
       "    }\n",
       "\n",
       "    .dataframe tbody tr th {\n",
       "        vertical-align: top;\n",
       "    }\n",
       "\n",
       "    .dataframe thead th {\n",
       "        text-align: right;\n",
       "    }\n",
       "</style>\n",
       "<table border=\"1\" class=\"dataframe\">\n",
       "  <thead>\n",
       "    <tr style=\"text-align: right;\">\n",
       "      <th></th>\n",
       "      <th>genus</th>\n",
       "      <th>score_s</th>\n",
       "    </tr>\n",
       "  </thead>\n",
       "  <tbody>\n",
       "    <tr>\n",
       "      <td>0</td>\n",
       "      <td>Cor_Eggerthella</td>\n",
       "      <td>3.77</td>\n",
       "    </tr>\n",
       "    <tr>\n",
       "      <td>1</td>\n",
       "      <td>Ent_Tatumella</td>\n",
       "      <td>2.62</td>\n",
       "    </tr>\n",
       "    <tr>\n",
       "      <td>2</td>\n",
       "      <td>Ent_Cronobacter</td>\n",
       "      <td>2.55</td>\n",
       "    </tr>\n",
       "    <tr>\n",
       "      <td>3</td>\n",
       "      <td>Tis_WAL_1855D</td>\n",
       "      <td>2.45</td>\n",
       "    </tr>\n",
       "    <tr>\n",
       "      <td>4</td>\n",
       "      <td>Ent_Edwardsiella</td>\n",
       "      <td>2.39</td>\n",
       "    </tr>\n",
       "    <tr>\n",
       "      <td>...</td>\n",
       "      <td>...</td>\n",
       "      <td>...</td>\n",
       "    </tr>\n",
       "    <tr>\n",
       "      <td>2002</td>\n",
       "      <td>Met_LD28</td>\n",
       "      <td>0.00</td>\n",
       "    </tr>\n",
       "    <tr>\n",
       "      <td>2003</td>\n",
       "      <td>Rho_Planktomarina</td>\n",
       "      <td>0.00</td>\n",
       "    </tr>\n",
       "    <tr>\n",
       "      <td>2004</td>\n",
       "      <td>Rho_Methyloligella</td>\n",
       "      <td>0.00</td>\n",
       "    </tr>\n",
       "    <tr>\n",
       "      <td>2005</td>\n",
       "      <td>Phy_Phycisphaeraceae_Group</td>\n",
       "      <td>0.00</td>\n",
       "    </tr>\n",
       "    <tr>\n",
       "      <td>2006</td>\n",
       "      <td>Bro_Candidatus_Scalindua</td>\n",
       "      <td>0.00</td>\n",
       "    </tr>\n",
       "  </tbody>\n",
       "</table>\n",
       "<p>2007 rows × 2 columns</p>\n",
       "</div>"
      ],
      "text/plain": [
       "                           genus  score_s\n",
       "0                Cor_Eggerthella     3.77\n",
       "1                  Ent_Tatumella     2.62\n",
       "2                Ent_Cronobacter     2.55\n",
       "3                  Tis_WAL_1855D     2.45\n",
       "4               Ent_Edwardsiella     2.39\n",
       "...                          ...      ...\n",
       "2002                    Met_LD28     0.00\n",
       "2003           Rho_Planktomarina     0.00\n",
       "2004          Rho_Methyloligella     0.00\n",
       "2005  Phy_Phycisphaeraceae_Group     0.00\n",
       "2006    Bro_Candidatus_Scalindua     0.00\n",
       "\n",
       "[2007 rows x 2 columns]"
      ]
     },
     "execution_count": 35,
     "metadata": {},
     "output_type": "execute_result"
    }
   ],
   "source": [
    "df_Autoimmune"
   ]
  },
  {
   "cell_type": "code",
   "execution_count": 36,
   "metadata": {},
   "outputs": [],
   "source": [
    "df_Multi = pd.DataFrame({'genus':[x[0] for x in res_Multi], 'score_m':[x[1] for x in res_Multi]})"
   ]
  },
  {
   "cell_type": "code",
   "execution_count": 37,
   "metadata": {},
   "outputs": [],
   "source": [
    "heatMap = df_Multi.merge(df_Autoimmune)"
   ]
  },
  {
   "cell_type": "code",
   "execution_count": 38,
   "metadata": {},
   "outputs": [],
   "source": [
    "heatMap_s = heatMap[heatMap['genus'].isin(set(res_Multi_s[:10]) | set(res_Autoimmune_s[:10]))]\n",
    "heatMap_s = heatMap_s.reset_index(drop=True)"
   ]
  },
  {
   "cell_type": "code",
   "execution_count": 39,
   "metadata": {},
   "outputs": [
    {
     "data": {
      "text/html": [
       "<div>\n",
       "<style scoped>\n",
       "    .dataframe tbody tr th:only-of-type {\n",
       "        vertical-align: middle;\n",
       "    }\n",
       "\n",
       "    .dataframe tbody tr th {\n",
       "        vertical-align: top;\n",
       "    }\n",
       "\n",
       "    .dataframe thead th {\n",
       "        text-align: right;\n",
       "    }\n",
       "</style>\n",
       "<table border=\"1\" class=\"dataframe\">\n",
       "  <thead>\n",
       "    <tr style=\"text-align: right;\">\n",
       "      <th></th>\n",
       "      <th>genus</th>\n",
       "      <th>score_m</th>\n",
       "      <th>score_s</th>\n",
       "    </tr>\n",
       "  </thead>\n",
       "  <tbody>\n",
       "    <tr>\n",
       "      <td>0</td>\n",
       "      <td>Lac_Eisenbergiella</td>\n",
       "      <td>7.47</td>\n",
       "      <td>1.05</td>\n",
       "    </tr>\n",
       "    <tr>\n",
       "      <td>1</td>\n",
       "      <td>Cor_Eggerthella</td>\n",
       "      <td>5.29</td>\n",
       "      <td>3.77</td>\n",
       "    </tr>\n",
       "    <tr>\n",
       "      <td>2</td>\n",
       "      <td>Ent_Cronobacter</td>\n",
       "      <td>4.12</td>\n",
       "      <td>2.55</td>\n",
       "    </tr>\n",
       "    <tr>\n",
       "      <td>3</td>\n",
       "      <td>Pre_Prevotella</td>\n",
       "      <td>3.87</td>\n",
       "      <td>2.18</td>\n",
       "    </tr>\n",
       "    <tr>\n",
       "      <td>4</td>\n",
       "      <td>Ent_Edwardsiella</td>\n",
       "      <td>3.81</td>\n",
       "      <td>2.39</td>\n",
       "    </tr>\n",
       "    <tr>\n",
       "      <td>5</td>\n",
       "      <td>Mog_Eubacterium</td>\n",
       "      <td>3.69</td>\n",
       "      <td>2.39</td>\n",
       "    </tr>\n",
       "    <tr>\n",
       "      <td>6</td>\n",
       "      <td>Lac_Hungatella</td>\n",
       "      <td>3.62</td>\n",
       "      <td>0.48</td>\n",
       "    </tr>\n",
       "    <tr>\n",
       "      <td>7</td>\n",
       "      <td>Bif_Bifidobacterium</td>\n",
       "      <td>3.46</td>\n",
       "      <td>1.76</td>\n",
       "    </tr>\n",
       "    <tr>\n",
       "      <td>8</td>\n",
       "      <td>Ery_Erysipelatoclostridium</td>\n",
       "      <td>3.35</td>\n",
       "      <td>1.91</td>\n",
       "    </tr>\n",
       "    <tr>\n",
       "      <td>9</td>\n",
       "      <td>Tis_WAL_1855D</td>\n",
       "      <td>3.15</td>\n",
       "      <td>2.45</td>\n",
       "    </tr>\n",
       "    <tr>\n",
       "      <td>10</td>\n",
       "      <td>Lac_Tyzzerella</td>\n",
       "      <td>2.19</td>\n",
       "      <td>2.01</td>\n",
       "    </tr>\n",
       "    <tr>\n",
       "      <td>11</td>\n",
       "      <td>Ent_Tatumella</td>\n",
       "      <td>1.45</td>\n",
       "      <td>2.62</td>\n",
       "    </tr>\n",
       "  </tbody>\n",
       "</table>\n",
       "</div>"
      ],
      "text/plain": [
       "                         genus  score_m  score_s\n",
       "0           Lac_Eisenbergiella     7.47     1.05\n",
       "1              Cor_Eggerthella     5.29     3.77\n",
       "2              Ent_Cronobacter     4.12     2.55\n",
       "3               Pre_Prevotella     3.87     2.18\n",
       "4             Ent_Edwardsiella     3.81     2.39\n",
       "5              Mog_Eubacterium     3.69     2.39\n",
       "6               Lac_Hungatella     3.62     0.48\n",
       "7          Bif_Bifidobacterium     3.46     1.76\n",
       "8   Ery_Erysipelatoclostridium     3.35     1.91\n",
       "9                Tis_WAL_1855D     3.15     2.45\n",
       "10              Lac_Tyzzerella     2.19     2.01\n",
       "11               Ent_Tatumella     1.45     2.62"
      ]
     },
     "execution_count": 39,
     "metadata": {},
     "output_type": "execute_result"
    }
   ],
   "source": [
    "heatMap_s"
   ]
  },
  {
   "cell_type": "code",
   "execution_count": null,
   "metadata": {},
   "outputs": [],
   "source": []
  },
  {
   "cell_type": "code",
   "execution_count": 40,
   "metadata": {},
   "outputs": [],
   "source": [
    "heatMap_s['score_m'] = heatMap_s['score_m'].apply(lambda x: 1 if x>0.712 else 0)"
   ]
  },
  {
   "cell_type": "code",
   "execution_count": 41,
   "metadata": {},
   "outputs": [],
   "source": [
    "heatMap_s['score_s'] = heatMap_s['score_s'].apply(lambda x: 1 if x>0.712 else 0)"
   ]
  },
  {
   "cell_type": "code",
   "execution_count": null,
   "metadata": {},
   "outputs": [],
   "source": []
  },
  {
   "cell_type": "code",
   "execution_count": null,
   "metadata": {},
   "outputs": [],
   "source": []
  },
  {
   "cell_type": "markdown",
   "metadata": {},
   "source": [
    "# Microbial biomarkers obtained by distribution-free independence test was similar between SD and MD"
   ]
  },
  {
   "cell_type": "code",
   "execution_count": 42,
   "metadata": {},
   "outputs": [
    {
     "data": {
      "text/html": [
       "<div>\n",
       "<style scoped>\n",
       "    .dataframe tbody tr th:only-of-type {\n",
       "        vertical-align: middle;\n",
       "    }\n",
       "\n",
       "    .dataframe tbody tr th {\n",
       "        vertical-align: top;\n",
       "    }\n",
       "\n",
       "    .dataframe thead th {\n",
       "        text-align: right;\n",
       "    }\n",
       "</style>\n",
       "<table border=\"1\" class=\"dataframe\">\n",
       "  <thead>\n",
       "    <tr style=\"text-align: right;\">\n",
       "      <th></th>\n",
       "      <th>genus</th>\n",
       "      <th>score_m</th>\n",
       "      <th>score_s</th>\n",
       "    </tr>\n",
       "  </thead>\n",
       "  <tbody>\n",
       "    <tr>\n",
       "      <td>0</td>\n",
       "      <td>Lac_Eisenbergiella</td>\n",
       "      <td>1</td>\n",
       "      <td>1</td>\n",
       "    </tr>\n",
       "    <tr>\n",
       "      <td>1</td>\n",
       "      <td>Cor_Eggerthella</td>\n",
       "      <td>1</td>\n",
       "      <td>1</td>\n",
       "    </tr>\n",
       "    <tr>\n",
       "      <td>2</td>\n",
       "      <td>Ent_Cronobacter</td>\n",
       "      <td>1</td>\n",
       "      <td>1</td>\n",
       "    </tr>\n",
       "    <tr>\n",
       "      <td>3</td>\n",
       "      <td>Pre_Prevotella</td>\n",
       "      <td>1</td>\n",
       "      <td>1</td>\n",
       "    </tr>\n",
       "    <tr>\n",
       "      <td>4</td>\n",
       "      <td>Ent_Edwardsiella</td>\n",
       "      <td>1</td>\n",
       "      <td>1</td>\n",
       "    </tr>\n",
       "    <tr>\n",
       "      <td>5</td>\n",
       "      <td>Mog_Eubacterium</td>\n",
       "      <td>1</td>\n",
       "      <td>1</td>\n",
       "    </tr>\n",
       "    <tr>\n",
       "      <td>6</td>\n",
       "      <td>Lac_Hungatella</td>\n",
       "      <td>1</td>\n",
       "      <td>0</td>\n",
       "    </tr>\n",
       "    <tr>\n",
       "      <td>7</td>\n",
       "      <td>Bif_Bifidobacterium</td>\n",
       "      <td>1</td>\n",
       "      <td>1</td>\n",
       "    </tr>\n",
       "    <tr>\n",
       "      <td>8</td>\n",
       "      <td>Ery_Erysipelatoclostridium</td>\n",
       "      <td>1</td>\n",
       "      <td>1</td>\n",
       "    </tr>\n",
       "    <tr>\n",
       "      <td>9</td>\n",
       "      <td>Tis_WAL_1855D</td>\n",
       "      <td>1</td>\n",
       "      <td>1</td>\n",
       "    </tr>\n",
       "    <tr>\n",
       "      <td>10</td>\n",
       "      <td>Lac_Tyzzerella</td>\n",
       "      <td>1</td>\n",
       "      <td>1</td>\n",
       "    </tr>\n",
       "    <tr>\n",
       "      <td>11</td>\n",
       "      <td>Ent_Tatumella</td>\n",
       "      <td>1</td>\n",
       "      <td>1</td>\n",
       "    </tr>\n",
       "  </tbody>\n",
       "</table>\n",
       "</div>"
      ],
      "text/plain": [
       "                         genus  score_m  score_s\n",
       "0           Lac_Eisenbergiella        1        1\n",
       "1              Cor_Eggerthella        1        1\n",
       "2              Ent_Cronobacter        1        1\n",
       "3               Pre_Prevotella        1        1\n",
       "4             Ent_Edwardsiella        1        1\n",
       "5              Mog_Eubacterium        1        1\n",
       "6               Lac_Hungatella        1        0\n",
       "7          Bif_Bifidobacterium        1        1\n",
       "8   Ery_Erysipelatoclostridium        1        1\n",
       "9                Tis_WAL_1855D        1        1\n",
       "10              Lac_Tyzzerella        1        1\n",
       "11               Ent_Tatumella        1        1"
      ]
     },
     "execution_count": 42,
     "metadata": {},
     "output_type": "execute_result"
    }
   ],
   "source": [
    "heatMap_s"
   ]
  },
  {
   "cell_type": "code",
   "execution_count": null,
   "metadata": {},
   "outputs": [],
   "source": []
  },
  {
   "cell_type": "code",
   "execution_count": null,
   "metadata": {},
   "outputs": [],
   "source": []
  },
  {
   "cell_type": "markdown",
   "metadata": {},
   "source": [
    "# Quartile"
   ]
  },
  {
   "cell_type": "code",
   "execution_count": 43,
   "metadata": {},
   "outputs": [
    {
     "data": {
      "text/plain": [
       "(900, 2011)"
      ]
     },
     "execution_count": 43,
     "metadata": {},
     "output_type": "execute_result"
    }
   ],
   "source": [
    "data_Single_Autoimmune_s.shape"
   ]
  },
  {
   "cell_type": "code",
   "execution_count": 44,
   "metadata": {},
   "outputs": [
    {
     "data": {
      "text/plain": [
       "(720, 2008)"
      ]
     },
     "execution_count": 44,
     "metadata": {},
     "output_type": "execute_result"
    }
   ],
   "source": [
    "data_Multiple.shape"
   ]
  },
  {
   "cell_type": "code",
   "execution_count": 45,
   "metadata": {},
   "outputs": [
    {
     "data": {
      "text/plain": [
       "['Lac_Eisenbergiella',\n",
       " 'Cor_Eggerthella',\n",
       " 'Ent_Cronobacter',\n",
       " 'Pre_Prevotella',\n",
       " 'Ent_Edwardsiella',\n",
       " 'Mog_Eubacterium',\n",
       " 'Lac_Hungatella',\n",
       " 'Bif_Bifidobacterium',\n",
       " 'Ery_Erysipelatoclostridium',\n",
       " 'Tis_WAL_1855D',\n",
       " 'Lac_Tyzzerella',\n",
       " 'Ent_Tatumella']"
      ]
     },
     "execution_count": 45,
     "metadata": {},
     "output_type": "execute_result"
    }
   ],
   "source": [
    "list(heatMap_s['genus'])"
   ]
  },
  {
   "cell_type": "code",
   "execution_count": null,
   "metadata": {},
   "outputs": [],
   "source": []
  },
  {
   "cell_type": "code",
   "execution_count": 46,
   "metadata": {},
   "outputs": [],
   "source": [
    "data_Single_tmp = data_Single_Autoimmune_s[list(heatMap_s['genus'])+['label']]"
   ]
  },
  {
   "cell_type": "code",
   "execution_count": null,
   "metadata": {},
   "outputs": [],
   "source": []
  },
  {
   "cell_type": "code",
   "execution_count": 47,
   "metadata": {},
   "outputs": [
    {
     "data": {
      "text/plain": [
       "Lac_Eisenbergiella            0.000000\n",
       "Cor_Eggerthella               0.000000\n",
       "Ent_Cronobacter               0.000000\n",
       "Pre_Prevotella                0.000156\n",
       "Ent_Edwardsiella              0.000000\n",
       "Mog_Eubacterium               0.000000\n",
       "Lac_Hungatella                0.000000\n",
       "Bif_Bifidobacterium           0.000025\n",
       "Ery_Erysipelatoclostridium    0.000000\n",
       "Tis_WAL_1855D                 0.000000\n",
       "Lac_Tyzzerella                0.000000\n",
       "Ent_Tatumella                 0.000000\n",
       "label                         1.000000\n",
       "Name: 0.25, dtype: float64"
      ]
     },
     "execution_count": 47,
     "metadata": {},
     "output_type": "execute_result"
    }
   ],
   "source": [
    "data_Single_tmp[data_Single_tmp['label']==1].quantile(0.25)"
   ]
  },
  {
   "cell_type": "code",
   "execution_count": 48,
   "metadata": {},
   "outputs": [
    {
     "data": {
      "text/plain": [
       "Lac_Eisenbergiella            0.000000\n",
       "Cor_Eggerthella               0.000000\n",
       "Ent_Cronobacter               0.000062\n",
       "Pre_Prevotella                0.000663\n",
       "Ent_Edwardsiella              0.000000\n",
       "Mog_Eubacterium               0.000000\n",
       "Lac_Hungatella                0.000000\n",
       "Bif_Bifidobacterium           0.000227\n",
       "Ery_Erysipelatoclostridium    0.000061\n",
       "Tis_WAL_1855D                 0.000000\n",
       "Lac_Tyzzerella                0.000000\n",
       "Ent_Tatumella                 0.000000\n",
       "label                         1.000000\n",
       "dtype: float64"
      ]
     },
     "execution_count": 48,
     "metadata": {},
     "output_type": "execute_result"
    }
   ],
   "source": [
    "data_Single_tmp[data_Single_tmp['label']==1].median()"
   ]
  },
  {
   "cell_type": "code",
   "execution_count": 49,
   "metadata": {},
   "outputs": [
    {
     "data": {
      "text/plain": [
       "Lac_Eisenbergiella            0.000201\n",
       "Cor_Eggerthella               0.000073\n",
       "Ent_Cronobacter               0.000275\n",
       "Pre_Prevotella                0.008296\n",
       "Ent_Edwardsiella              0.000252\n",
       "Mog_Eubacterium               0.000146\n",
       "Lac_Hungatella                0.000025\n",
       "Bif_Bifidobacterium           0.001565\n",
       "Ery_Erysipelatoclostridium    0.000575\n",
       "Tis_WAL_1855D                 0.000092\n",
       "Lac_Tyzzerella                0.000276\n",
       "Ent_Tatumella                 0.000195\n",
       "label                         1.000000\n",
       "Name: 0.75, dtype: float64"
      ]
     },
     "execution_count": 49,
     "metadata": {},
     "output_type": "execute_result"
    }
   ],
   "source": [
    "data_Single_tmp[data_Single_tmp['label']==1].quantile(0.75)"
   ]
  },
  {
   "cell_type": "code",
   "execution_count": null,
   "metadata": {},
   "outputs": [],
   "source": []
  },
  {
   "cell_type": "code",
   "execution_count": 50,
   "metadata": {},
   "outputs": [
    {
     "data": {
      "text/plain": [
       "Lac_Eisenbergiella            0.000000\n",
       "Cor_Eggerthella               0.000000\n",
       "Ent_Cronobacter               0.000000\n",
       "Pre_Prevotella                0.000315\n",
       "Ent_Edwardsiella              0.000000\n",
       "Mog_Eubacterium               0.000000\n",
       "Lac_Hungatella                0.000000\n",
       "Bif_Bifidobacterium           0.000086\n",
       "Ery_Erysipelatoclostridium    0.000000\n",
       "Tis_WAL_1855D                 0.000000\n",
       "Lac_Tyzzerella                0.000000\n",
       "Ent_Tatumella                 0.000000\n",
       "label                         0.000000\n",
       "Name: 0.25, dtype: float64"
      ]
     },
     "execution_count": 50,
     "metadata": {},
     "output_type": "execute_result"
    }
   ],
   "source": [
    "data_Single_tmp[data_Single_tmp['label']==0].quantile(0.25)"
   ]
  },
  {
   "cell_type": "code",
   "execution_count": 51,
   "metadata": {},
   "outputs": [
    {
     "data": {
      "text/plain": [
       "Lac_Eisenbergiella            0.000000\n",
       "Cor_Eggerthella               0.000000\n",
       "Ent_Cronobacter               0.000000\n",
       "Pre_Prevotella                0.001787\n",
       "Ent_Edwardsiella              0.000000\n",
       "Mog_Eubacterium               0.000000\n",
       "Lac_Hungatella                0.000000\n",
       "Bif_Bifidobacterium           0.000588\n",
       "Ery_Erysipelatoclostridium    0.000000\n",
       "Tis_WAL_1855D                 0.000000\n",
       "Lac_Tyzzerella                0.000000\n",
       "Ent_Tatumella                 0.000000\n",
       "label                         0.000000\n",
       "dtype: float64"
      ]
     },
     "execution_count": 51,
     "metadata": {},
     "output_type": "execute_result"
    }
   ],
   "source": [
    "data_Single_tmp[data_Single_tmp['label']==0].median()"
   ]
  },
  {
   "cell_type": "code",
   "execution_count": 52,
   "metadata": {},
   "outputs": [
    {
     "data": {
      "text/plain": [
       "Lac_Eisenbergiella            0.000123\n",
       "Cor_Eggerthella               0.000000\n",
       "Ent_Cronobacter               0.000188\n",
       "Pre_Prevotella                0.023693\n",
       "Ent_Edwardsiella              0.000159\n",
       "Mog_Eubacterium               0.000034\n",
       "Lac_Hungatella                0.000000\n",
       "Bif_Bifidobacterium           0.002838\n",
       "Ery_Erysipelatoclostridium    0.000343\n",
       "Tis_WAL_1855D                 0.000193\n",
       "Lac_Tyzzerella                0.000094\n",
       "Ent_Tatumella                 0.000000\n",
       "label                         0.000000\n",
       "Name: 0.75, dtype: float64"
      ]
     },
     "execution_count": 52,
     "metadata": {},
     "output_type": "execute_result"
    }
   ],
   "source": [
    "data_Single_tmp[data_Single_tmp['label']==0].quantile(0.75)"
   ]
  },
  {
   "cell_type": "code",
   "execution_count": null,
   "metadata": {},
   "outputs": [],
   "source": []
  },
  {
   "cell_type": "code",
   "execution_count": null,
   "metadata": {},
   "outputs": [],
   "source": []
  },
  {
   "cell_type": "code",
   "execution_count": null,
   "metadata": {},
   "outputs": [],
   "source": []
  },
  {
   "cell_type": "code",
   "execution_count": 53,
   "metadata": {},
   "outputs": [],
   "source": [
    "data_Multiple_tmp = data_Multiple[list(heatMap_s['genus'])+['label']]"
   ]
  },
  {
   "cell_type": "code",
   "execution_count": null,
   "metadata": {},
   "outputs": [],
   "source": []
  },
  {
   "cell_type": "code",
   "execution_count": 54,
   "metadata": {},
   "outputs": [
    {
     "data": {
      "text/plain": [
       "Lac_Eisenbergiella            0.000000\n",
       "Cor_Eggerthella               0.000000\n",
       "Ent_Cronobacter               0.000000\n",
       "Pre_Prevotella                0.000104\n",
       "Ent_Edwardsiella              0.000000\n",
       "Mog_Eubacterium               0.000000\n",
       "Lac_Hungatella                0.000000\n",
       "Bif_Bifidobacterium           0.000016\n",
       "Ery_Erysipelatoclostridium    0.000000\n",
       "Tis_WAL_1855D                 0.000000\n",
       "Lac_Tyzzerella                0.000000\n",
       "Ent_Tatumella                 0.000000\n",
       "label                         1.000000\n",
       "Name: 0.25, dtype: float64"
      ]
     },
     "execution_count": 54,
     "metadata": {},
     "output_type": "execute_result"
    }
   ],
   "source": [
    "data_Multiple_tmp[data_Multiple_tmp['label']==1].quantile(0.25)"
   ]
  },
  {
   "cell_type": "code",
   "execution_count": 55,
   "metadata": {},
   "outputs": [
    {
     "data": {
      "text/plain": [
       "Lac_Eisenbergiella            0.000086\n",
       "Cor_Eggerthella               0.000000\n",
       "Ent_Cronobacter               0.000083\n",
       "Pre_Prevotella                0.000388\n",
       "Ent_Edwardsiella              0.000032\n",
       "Mog_Eubacterium               0.000000\n",
       "Lac_Hungatella                0.000000\n",
       "Bif_Bifidobacterium           0.000171\n",
       "Ery_Erysipelatoclostridium    0.000095\n",
       "Tis_WAL_1855D                 0.000000\n",
       "Lac_Tyzzerella                0.000000\n",
       "Ent_Tatumella                 0.000000\n",
       "label                         1.000000\n",
       "dtype: float64"
      ]
     },
     "execution_count": 55,
     "metadata": {},
     "output_type": "execute_result"
    }
   ],
   "source": [
    "data_Multiple_tmp[data_Multiple_tmp['label']==1].median()"
   ]
  },
  {
   "cell_type": "code",
   "execution_count": 56,
   "metadata": {},
   "outputs": [
    {
     "data": {
      "text/plain": [
       "Lac_Eisenbergiella            0.000599\n",
       "Cor_Eggerthella               0.000109\n",
       "Ent_Cronobacter               0.000290\n",
       "Pre_Prevotella                0.003091\n",
       "Ent_Edwardsiella              0.000265\n",
       "Mog_Eubacterium               0.000178\n",
       "Lac_Hungatella                0.000123\n",
       "Bif_Bifidobacterium           0.001148\n",
       "Ery_Erysipelatoclostridium    0.000822\n",
       "Tis_WAL_1855D                 0.000045\n",
       "Lac_Tyzzerella                0.000223\n",
       "Ent_Tatumella                 0.000196\n",
       "label                         1.000000\n",
       "Name: 0.75, dtype: float64"
      ]
     },
     "execution_count": 56,
     "metadata": {},
     "output_type": "execute_result"
    }
   ],
   "source": [
    "data_Multiple_tmp[data_Multiple_tmp['label']==1].quantile(0.75)"
   ]
  },
  {
   "cell_type": "code",
   "execution_count": null,
   "metadata": {},
   "outputs": [],
   "source": []
  },
  {
   "cell_type": "code",
   "execution_count": null,
   "metadata": {},
   "outputs": [],
   "source": []
  },
  {
   "cell_type": "code",
   "execution_count": 57,
   "metadata": {},
   "outputs": [
    {
     "data": {
      "text/plain": [
       "Lac_Eisenbergiella            0.00000\n",
       "Cor_Eggerthella               0.00000\n",
       "Ent_Cronobacter               0.00000\n",
       "Pre_Prevotella                0.00027\n",
       "Ent_Edwardsiella              0.00000\n",
       "Mog_Eubacterium               0.00000\n",
       "Lac_Hungatella                0.00000\n",
       "Bif_Bifidobacterium           0.00010\n",
       "Ery_Erysipelatoclostridium    0.00000\n",
       "Tis_WAL_1855D                 0.00000\n",
       "Lac_Tyzzerella                0.00000\n",
       "Ent_Tatumella                 0.00000\n",
       "label                         0.00000\n",
       "Name: 0.25, dtype: float64"
      ]
     },
     "execution_count": 57,
     "metadata": {},
     "output_type": "execute_result"
    }
   ],
   "source": [
    "data_Multiple_tmp[data_Multiple_tmp['label']==0].quantile(0.25)"
   ]
  },
  {
   "cell_type": "code",
   "execution_count": 58,
   "metadata": {},
   "outputs": [
    {
     "data": {
      "text/plain": [
       "Lac_Eisenbergiella            0.000000\n",
       "Cor_Eggerthella               0.000000\n",
       "Ent_Cronobacter               0.000000\n",
       "Pre_Prevotella                0.001470\n",
       "Ent_Edwardsiella              0.000000\n",
       "Mog_Eubacterium               0.000000\n",
       "Lac_Hungatella                0.000000\n",
       "Bif_Bifidobacterium           0.000666\n",
       "Ery_Erysipelatoclostridium    0.000000\n",
       "Tis_WAL_1855D                 0.000000\n",
       "Lac_Tyzzerella                0.000000\n",
       "Ent_Tatumella                 0.000000\n",
       "label                         0.000000\n",
       "dtype: float64"
      ]
     },
     "execution_count": 58,
     "metadata": {},
     "output_type": "execute_result"
    }
   ],
   "source": [
    "data_Multiple_tmp[data_Multiple_tmp['label']==0].median()"
   ]
  },
  {
   "cell_type": "code",
   "execution_count": 59,
   "metadata": {},
   "outputs": [
    {
     "data": {
      "text/plain": [
       "Lac_Eisenbergiella            0.000125\n",
       "Cor_Eggerthella               0.000000\n",
       "Ent_Cronobacter               0.000186\n",
       "Pre_Prevotella                0.021508\n",
       "Ent_Edwardsiella              0.000128\n",
       "Mog_Eubacterium               0.000036\n",
       "Lac_Hungatella                0.000000\n",
       "Bif_Bifidobacterium           0.003364\n",
       "Ery_Erysipelatoclostridium    0.000291\n",
       "Tis_WAL_1855D                 0.000173\n",
       "Lac_Tyzzerella                0.000076\n",
       "Ent_Tatumella                 0.000000\n",
       "label                         0.000000\n",
       "Name: 0.75, dtype: float64"
      ]
     },
     "execution_count": 59,
     "metadata": {},
     "output_type": "execute_result"
    }
   ],
   "source": [
    "data_Multiple_tmp[data_Multiple_tmp['label']==0].quantile(0.75)"
   ]
  },
  {
   "cell_type": "code",
   "execution_count": null,
   "metadata": {},
   "outputs": [],
   "source": []
  },
  {
   "cell_type": "code",
   "execution_count": null,
   "metadata": {},
   "outputs": [],
   "source": []
  },
  {
   "cell_type": "code",
   "execution_count": null,
   "metadata": {},
   "outputs": [],
   "source": []
  },
  {
   "cell_type": "markdown",
   "metadata": {},
   "source": [
    "# First tree of lgb"
   ]
  },
  {
   "cell_type": "code",
   "execution_count": null,
   "metadata": {},
   "outputs": [],
   "source": []
  },
  {
   "cell_type": "code",
   "execution_count": null,
   "metadata": {},
   "outputs": [],
   "source": []
  },
  {
   "cell_type": "code",
   "execution_count": 60,
   "metadata": {},
   "outputs": [
    {
     "data": {
      "text/plain": [
       "LGBMClassifier(colsample_bytree=0.8, learning_rate=0.02, max_depth=5,\n",
       "               n_estimators=1000, n_jobs=2, num_leaves=32, random_state=2020,\n",
       "               subsample=0.8, subsample_freq=5)"
      ]
     },
     "execution_count": 60,
     "metadata": {},
     "output_type": "execute_result"
    }
   ],
   "source": [
    "clf.fit(train_[feats],train_['label'])"
   ]
  },
  {
   "cell_type": "code",
   "execution_count": 62,
   "metadata": {},
   "outputs": [
    {
     "data": {
      "text/plain": [
       "'Tree_Autoimmune_SD.gv.pdf'"
      ]
     },
     "execution_count": 62,
     "metadata": {},
     "output_type": "execute_result"
    }
   ],
   "source": [
    "graph = lgb.create_tree_digraph(clf, tree_index=0, name='Tree_Autoimmune_SD')\n",
    "graph.render(view=True)"
   ]
  },
  {
   "cell_type": "code",
   "execution_count": null,
   "metadata": {},
   "outputs": [],
   "source": []
  },
  {
   "cell_type": "code",
   "execution_count": 63,
   "metadata": {},
   "outputs": [
    {
     "data": {
      "text/plain": [
       "LGBMClassifier(colsample_bytree=0.8, learning_rate=0.02, max_depth=5,\n",
       "               n_estimators=1000, n_jobs=2, num_leaves=32, random_state=2020,\n",
       "               subsample=0.8, subsample_freq=5)"
      ]
     },
     "execution_count": 63,
     "metadata": {},
     "output_type": "execute_result"
    }
   ],
   "source": [
    "data_Multiple = genData_test(df_new_s,train_[train_['label']==0],\n",
    "                                 set(disease_sta.loc[disease_sta['which_disease']=='Multiple','SampleID']) ,disease_name)\n",
    "    \n",
    "clf.fit(data_Multiple[feats],data_Multiple['label'])"
   ]
  },
  {
   "cell_type": "code",
   "execution_count": 64,
   "metadata": {},
   "outputs": [
    {
     "data": {
      "text/plain": [
       "'Tree_Autoimmune_MD.gv.pdf'"
      ]
     },
     "execution_count": 64,
     "metadata": {},
     "output_type": "execute_result"
    }
   ],
   "source": [
    "graph = lgb.create_tree_digraph(clf, tree_index=0, name='Tree_Autoimmune_MD')\n",
    "graph.render(view=True)"
   ]
  },
  {
   "cell_type": "code",
   "execution_count": null,
   "metadata": {},
   "outputs": [],
   "source": []
  },
  {
   "cell_type": "code",
   "execution_count": null,
   "metadata": {},
   "outputs": [],
   "source": []
  }
 ],
 "metadata": {
  "kernelspec": {
   "display_name": "Python 3",
   "language": "python",
   "name": "python3"
  },
  "language_info": {
   "codemirror_mode": {
    "name": "ipython",
    "version": 3
   },
   "file_extension": ".py",
   "mimetype": "text/x-python",
   "name": "python",
   "nbconvert_exporter": "python",
   "pygments_lexer": "ipython3",
   "version": "3.7.4"
  }
 },
 "nbformat": 4,
 "nbformat_minor": 2
}
